{
 "cells": [
  {
   "cell_type": "markdown",
   "metadata": {},
   "source": [
    "# Data cleaning"
   ]
  },
  {
   "cell_type": "code",
   "execution_count": 2,
   "metadata": {},
   "outputs": [],
   "source": [
    "import pandas as pd\n",
    "import numpy as np\n",
    "import matplotlib.pyplot as plt\n",
    "import seaborn as sns"
   ]
  },
  {
   "cell_type": "markdown",
   "metadata": {},
   "source": [
    "## Importation des données"
   ]
  },
  {
   "cell_type": "code",
   "execution_count": 3,
   "metadata": {},
   "outputs": [],
   "source": [
    "database = pd.read_csv(\"en.openfoodfacts.org.products.tsv\", delimiter='\\t', low_memory=False)"
   ]
  },
  {
   "cell_type": "code",
   "execution_count": 4,
   "metadata": {},
   "outputs": [],
   "source": [
    "pd.set_option('display.max_columns', None)\n",
    "pd.set_option('display.max_rows', None)"
   ]
  },
  {
   "cell_type": "markdown",
   "metadata": {},
   "source": [
    "## Sélection des colonnes utiles pour l'étude"
   ]
  },
  {
   "cell_type": "code",
   "execution_count": 5,
   "metadata": {},
   "outputs": [],
   "source": [
    "nutriscore_cols=[\n",
    "    'product_name', \n",
    "    'generic_name', \n",
    "    'brands',\n",
    "    'categories',\n",
    "    'countries', \n",
    "    'nutrition_grade_fr', \n",
    "    'energy_100g', \n",
    "    'energy-from-fat_100g', \n",
    "    'fat_100g', \n",
    "    'saturated-fat_100g', \n",
    "    'carbohydrates_100g', \n",
    "    'sugars_100g', \n",
    "    '-sucrose_100g', \n",
    "    '-glucose_100g', \n",
    "    '-fructose_100g', \n",
    "    '-lactose_100g', \n",
    "    '-maltose_100g', \n",
    "    '-maltodextrins_100g', \n",
    "    'fiber_100g', \n",
    "    'proteins_100g', \n",
    "    'salt_100g', \n",
    "    'sodium_100g', \n",
    "    'fruits-vegetables-nuts_100g', \n",
    "    'nutrition-score-fr_100g', \n",
    "    'nutrition-score-uk_100g' \n",
    "        ]"
   ]
  },
  {
   "cell_type": "code",
   "execution_count": 7,
   "metadata": {},
   "outputs": [
    {
     "data": {
      "text/html": [
       "<div>\n",
       "<style scoped>\n",
       "    .dataframe tbody tr th:only-of-type {\n",
       "        vertical-align: middle;\n",
       "    }\n",
       "\n",
       "    .dataframe tbody tr th {\n",
       "        vertical-align: top;\n",
       "    }\n",
       "\n",
       "    .dataframe thead th {\n",
       "        text-align: right;\n",
       "    }\n",
       "</style>\n",
       "<table border=\"1\" class=\"dataframe\">\n",
       "  <thead>\n",
       "    <tr style=\"text-align: right;\">\n",
       "      <th></th>\n",
       "      <th>product_name</th>\n",
       "      <th>generic_name</th>\n",
       "      <th>brands</th>\n",
       "      <th>categories</th>\n",
       "      <th>countries</th>\n",
       "      <th>nutrition_grade_fr</th>\n",
       "      <th>energy_100g</th>\n",
       "      <th>energy-from-fat_100g</th>\n",
       "      <th>fat_100g</th>\n",
       "      <th>saturated-fat_100g</th>\n",
       "      <th>carbohydrates_100g</th>\n",
       "      <th>sugars_100g</th>\n",
       "      <th>-sucrose_100g</th>\n",
       "      <th>-glucose_100g</th>\n",
       "      <th>-fructose_100g</th>\n",
       "      <th>-lactose_100g</th>\n",
       "      <th>-maltose_100g</th>\n",
       "      <th>-maltodextrins_100g</th>\n",
       "      <th>fiber_100g</th>\n",
       "      <th>proteins_100g</th>\n",
       "      <th>salt_100g</th>\n",
       "      <th>sodium_100g</th>\n",
       "      <th>fruits-vegetables-nuts_100g</th>\n",
       "      <th>nutrition-score-fr_100g</th>\n",
       "      <th>nutrition-score-uk_100g</th>\n",
       "    </tr>\n",
       "  </thead>\n",
       "  <tbody>\n",
       "    <tr>\n",
       "      <th>0</th>\n",
       "      <td>Farine de blé noir</td>\n",
       "      <td>NaN</td>\n",
       "      <td>Ferme t'y R'nao</td>\n",
       "      <td>NaN</td>\n",
       "      <td>en:FR</td>\n",
       "      <td>NaN</td>\n",
       "      <td>NaN</td>\n",
       "      <td>NaN</td>\n",
       "      <td>NaN</td>\n",
       "      <td>NaN</td>\n",
       "      <td>NaN</td>\n",
       "      <td>NaN</td>\n",
       "      <td>NaN</td>\n",
       "      <td>NaN</td>\n",
       "      <td>NaN</td>\n",
       "      <td>NaN</td>\n",
       "      <td>NaN</td>\n",
       "      <td>NaN</td>\n",
       "      <td>NaN</td>\n",
       "      <td>NaN</td>\n",
       "      <td>NaN</td>\n",
       "      <td>NaN</td>\n",
       "      <td>NaN</td>\n",
       "      <td>NaN</td>\n",
       "      <td>NaN</td>\n",
       "    </tr>\n",
       "    <tr>\n",
       "      <th>1</th>\n",
       "      <td>Banana Chips Sweetened (Whole)</td>\n",
       "      <td>NaN</td>\n",
       "      <td>NaN</td>\n",
       "      <td>NaN</td>\n",
       "      <td>US</td>\n",
       "      <td>d</td>\n",
       "      <td>2243.0</td>\n",
       "      <td>NaN</td>\n",
       "      <td>28.57</td>\n",
       "      <td>28.57</td>\n",
       "      <td>64.29</td>\n",
       "      <td>14.29</td>\n",
       "      <td>NaN</td>\n",
       "      <td>NaN</td>\n",
       "      <td>NaN</td>\n",
       "      <td>NaN</td>\n",
       "      <td>NaN</td>\n",
       "      <td>NaN</td>\n",
       "      <td>3.6</td>\n",
       "      <td>3.57</td>\n",
       "      <td>0.00000</td>\n",
       "      <td>0.000</td>\n",
       "      <td>NaN</td>\n",
       "      <td>14.0</td>\n",
       "      <td>14.0</td>\n",
       "    </tr>\n",
       "    <tr>\n",
       "      <th>2</th>\n",
       "      <td>Peanuts</td>\n",
       "      <td>NaN</td>\n",
       "      <td>Torn &amp; Glasser</td>\n",
       "      <td>NaN</td>\n",
       "      <td>US</td>\n",
       "      <td>b</td>\n",
       "      <td>1941.0</td>\n",
       "      <td>NaN</td>\n",
       "      <td>17.86</td>\n",
       "      <td>0.00</td>\n",
       "      <td>60.71</td>\n",
       "      <td>17.86</td>\n",
       "      <td>NaN</td>\n",
       "      <td>NaN</td>\n",
       "      <td>NaN</td>\n",
       "      <td>NaN</td>\n",
       "      <td>NaN</td>\n",
       "      <td>NaN</td>\n",
       "      <td>7.1</td>\n",
       "      <td>17.86</td>\n",
       "      <td>0.63500</td>\n",
       "      <td>0.250</td>\n",
       "      <td>NaN</td>\n",
       "      <td>0.0</td>\n",
       "      <td>0.0</td>\n",
       "    </tr>\n",
       "    <tr>\n",
       "      <th>3</th>\n",
       "      <td>Organic Salted Nut Mix</td>\n",
       "      <td>NaN</td>\n",
       "      <td>Grizzlies</td>\n",
       "      <td>NaN</td>\n",
       "      <td>US</td>\n",
       "      <td>d</td>\n",
       "      <td>2540.0</td>\n",
       "      <td>NaN</td>\n",
       "      <td>57.14</td>\n",
       "      <td>5.36</td>\n",
       "      <td>17.86</td>\n",
       "      <td>3.57</td>\n",
       "      <td>NaN</td>\n",
       "      <td>NaN</td>\n",
       "      <td>NaN</td>\n",
       "      <td>NaN</td>\n",
       "      <td>NaN</td>\n",
       "      <td>NaN</td>\n",
       "      <td>7.1</td>\n",
       "      <td>17.86</td>\n",
       "      <td>1.22428</td>\n",
       "      <td>0.482</td>\n",
       "      <td>NaN</td>\n",
       "      <td>12.0</td>\n",
       "      <td>12.0</td>\n",
       "    </tr>\n",
       "    <tr>\n",
       "      <th>4</th>\n",
       "      <td>Organic Polenta</td>\n",
       "      <td>NaN</td>\n",
       "      <td>Bob's Red Mill</td>\n",
       "      <td>NaN</td>\n",
       "      <td>US</td>\n",
       "      <td>NaN</td>\n",
       "      <td>1552.0</td>\n",
       "      <td>NaN</td>\n",
       "      <td>1.43</td>\n",
       "      <td>NaN</td>\n",
       "      <td>77.14</td>\n",
       "      <td>NaN</td>\n",
       "      <td>NaN</td>\n",
       "      <td>NaN</td>\n",
       "      <td>NaN</td>\n",
       "      <td>NaN</td>\n",
       "      <td>NaN</td>\n",
       "      <td>NaN</td>\n",
       "      <td>5.7</td>\n",
       "      <td>8.57</td>\n",
       "      <td>NaN</td>\n",
       "      <td>NaN</td>\n",
       "      <td>NaN</td>\n",
       "      <td>NaN</td>\n",
       "      <td>NaN</td>\n",
       "    </tr>\n",
       "  </tbody>\n",
       "</table>\n",
       "</div>"
      ],
      "text/plain": [
       "                     product_name generic_name           brands categories  \\\n",
       "0              Farine de blé noir          NaN  Ferme t'y R'nao        NaN   \n",
       "1  Banana Chips Sweetened (Whole)          NaN              NaN        NaN   \n",
       "2                         Peanuts          NaN   Torn & Glasser        NaN   \n",
       "3          Organic Salted Nut Mix          NaN        Grizzlies        NaN   \n",
       "4                 Organic Polenta          NaN   Bob's Red Mill        NaN   \n",
       "\n",
       "  countries nutrition_grade_fr  energy_100g  energy-from-fat_100g  fat_100g  \\\n",
       "0     en:FR                NaN          NaN                   NaN       NaN   \n",
       "1        US                  d       2243.0                   NaN     28.57   \n",
       "2        US                  b       1941.0                   NaN     17.86   \n",
       "3        US                  d       2540.0                   NaN     57.14   \n",
       "4        US                NaN       1552.0                   NaN      1.43   \n",
       "\n",
       "   saturated-fat_100g  carbohydrates_100g  sugars_100g  -sucrose_100g  \\\n",
       "0                 NaN                 NaN          NaN            NaN   \n",
       "1               28.57               64.29        14.29            NaN   \n",
       "2                0.00               60.71        17.86            NaN   \n",
       "3                5.36               17.86         3.57            NaN   \n",
       "4                 NaN               77.14          NaN            NaN   \n",
       "\n",
       "   -glucose_100g  -fructose_100g  -lactose_100g  -maltose_100g  \\\n",
       "0            NaN             NaN            NaN            NaN   \n",
       "1            NaN             NaN            NaN            NaN   \n",
       "2            NaN             NaN            NaN            NaN   \n",
       "3            NaN             NaN            NaN            NaN   \n",
       "4            NaN             NaN            NaN            NaN   \n",
       "\n",
       "   -maltodextrins_100g  fiber_100g  proteins_100g  salt_100g  sodium_100g  \\\n",
       "0                  NaN         NaN            NaN        NaN          NaN   \n",
       "1                  NaN         3.6           3.57    0.00000        0.000   \n",
       "2                  NaN         7.1          17.86    0.63500        0.250   \n",
       "3                  NaN         7.1          17.86    1.22428        0.482   \n",
       "4                  NaN         5.7           8.57        NaN          NaN   \n",
       "\n",
       "   fruits-vegetables-nuts_100g  nutrition-score-fr_100g  \\\n",
       "0                          NaN                      NaN   \n",
       "1                          NaN                     14.0   \n",
       "2                          NaN                      0.0   \n",
       "3                          NaN                     12.0   \n",
       "4                          NaN                      NaN   \n",
       "\n",
       "   nutrition-score-uk_100g  \n",
       "0                      NaN  \n",
       "1                     14.0  \n",
       "2                      0.0  \n",
       "3                     12.0  \n",
       "4                      NaN  "
      ]
     },
     "execution_count": 7,
     "metadata": {},
     "output_type": "execute_result"
    }
   ],
   "source": [
    "nutriscore_table = database[nutriscore_cols].copy()\n",
    "nutriscore_table.head()"
   ]
  },
  {
   "cell_type": "code",
   "execution_count": 8,
   "metadata": {},
   "outputs": [
    {
     "data": {
      "text/plain": [
       "(356027, 25)"
      ]
     },
     "execution_count": 8,
     "metadata": {},
     "output_type": "execute_result"
    }
   ],
   "source": [
    "nutriscore_table.shape"
   ]
  },
  {
   "cell_type": "markdown",
   "metadata": {},
   "source": [
    "## Sélection des données de produits vendus en France"
   ]
  },
  {
   "cell_type": "code",
   "execution_count": 9,
   "metadata": {},
   "outputs": [
    {
     "name": "stdout",
     "output_type": "stream",
     "text": [
      "275\n"
     ]
    }
   ],
   "source": [
    "print(nutriscore_table['countries'].isnull().sum())"
   ]
  },
  {
   "cell_type": "code",
   "execution_count": 10,
   "metadata": {},
   "outputs": [],
   "source": [
    "nutriscore_table = nutriscore_table[nutriscore_table['countries'].notna()]"
   ]
  },
  {
   "cell_type": "code",
   "execution_count": 11,
   "metadata": {},
   "outputs": [
    {
     "data": {
      "text/plain": [
       "(355752, 25)"
      ]
     },
     "execution_count": 11,
     "metadata": {},
     "output_type": "execute_result"
    }
   ],
   "source": [
    "nutriscore_table.shape"
   ]
  },
  {
   "cell_type": "code",
   "execution_count": 12,
   "metadata": {},
   "outputs": [
    {
     "name": "stdout",
     "output_type": "stream",
     "text": [
      "1637\n"
     ]
    }
   ],
   "source": [
    "print(len(nutriscore_table['countries'].unique()))"
   ]
  },
  {
   "cell_type": "code",
   "execution_count": 13,
   "metadata": {},
   "outputs": [],
   "source": [
    "list_countries = nutriscore_table['countries'].unique()"
   ]
  },
  {
   "cell_type": "code",
   "execution_count": 14,
   "metadata": {},
   "outputs": [
    {
     "data": {
      "text/plain": [
       "array(['en:FR', 'US', 'France', ..., 'Malaisie', 'en:HK, en:france',\n",
       "       'Hong Kong,China'], dtype=object)"
      ]
     },
     "execution_count": 14,
     "metadata": {},
     "output_type": "execute_result"
    }
   ],
   "source": [
    "list_countries"
   ]
  },
  {
   "cell_type": "code",
   "execution_count": 15,
   "metadata": {},
   "outputs": [
    {
     "name": "stdout",
     "output_type": "stream",
     "text": [
      "['en:FR', 'France', 'France,États-Unis', 'France, US', 'France,Royaume-Uni', 'Belgique,France,Pays-Bas,Royaume-Uni', 'France,Belgique,Pays-Bas,Royaume-Uni', 'France,United Kingdom', 'UK,France', 'France,UK', 'Royaume-Uni,France', 'en:FR,France', 'en:AU, en:france', 'France,Suisse,États-Unis,Canada', 'France,United States', 'en:RE, en:france', 'France,Allemagne', 'Belgique,France', 'en:FR, US', 'United States, en:france', 'en:IQ,France', 'France, Suisse', 'en:FR, Suisse', 'France,Polynésie française', 'en:US, en:france', 'US,France', 'Netherlands,France', 'France,Canada', 'France,États-Unis,Suisse', 'France,Italie', 'United States,France', 'United Kingdom, en:france', 'Belgique, en:france', 'United Kingdom,France', 'en:BE,France', 'France,United Kingdom,United States', 'en:US,France', 'United States, en:france, en:switzerland', 'France,Switzerland', 'Australia,France,United Kingdom', 'France,United Kingdom, US', 'France,Belgique,Royaume-Uni,Pays-Bas', 'France,Royaume-Uni,États-Unis', 'en:GB,France', 'en:CA, en:france', 'Canada,France', 'Canada, en:france', 'en:CH,France', 'Australia,France', 'en:CA,France', 'Canada, en:france, en:switzerland', 'Belgique,Canada,France,Suisse', 'France,Québec', 'Canada,France,États-Unis', 'en:france', 'France,Saint Pierre and Miquelon', 'Switzerland,France', 'France, en:switzerland', 'France,Royaume-Uni, Suisse', 'France,New Zealand', 'Belgique,France,Royaume-Uni,Pays-Bas', 'France,Suisse,États-Unis', 'France,Espagne,Royaume-Uni', 'France,Royaume-Uni,Pays-Bas,Belgique', 'UK,France,Belgium', 'Belgium,France,Netherlands,United Kingdom', 'FR', 'Australie,France', 'en:DE, en:france', 'France,Pays-Bas', 'France,Pays-Bas,Royaume-Uni', 'en:DE,France', 'Belgique,France,Royaume-Uni', 'France,Royaume-Uni,Pays-Bas', 'France,Belgique,Royaume-Uni', 'en:QA, en:france', 'الجزائر, en:france', 'La Réunion, France', 'France,Guyane', 'Belgique,France,Pays-Bas', 'France,Angleterre,Grande-Bretagne', 'Tunisie, en:france', 'France,Suisse', 'Belgium,France', 'Belgique,France,Suisse', 'Belgique,France, Suisse', 'Suisse,Belgique, en:france', 'France,USA', 'Saint Pierre and Miquelon, en:france, en:belgium', 'France,Espagne', 'France,Japon', 'Algérie, en:france', 'en:MA,France', 'India, en:france', 'France,Suriname,United Kingdom,Guadeloupe,Greece,French Guiana', 'Chili,France,Espagne,Suisse,Royaume-Uni', 'Belgique,France,États-Unis', 'France,Belgium', 'Deutschland,France', 'France,États-Unis,Royaume-Uni', 'Suisse, en:france', 'Ireland,France', 'Danemark,Royaume-Uni,France', 'en:BE, en:france', \"Côte d'Ivoire,France\", 'en:AU,France', '日本, en:france', 'France,Sénégal', 'Sénégal, en:france', 'Luxembourg, en:france', 'Royaume-Uni,france', 'UK,France,UK', 'UK,France,Angleterre', 'Italy,France', 'Chili,France', 'France,Allemagne,Espagne', 'Autriche,France', 'France,Allemagne,Suède', 'France,Allemagne,Roumanie,Royaume-Uni,Scotland', 'Allemagne,France', 'France,Germany', 'France,Allemagne,Suisse', 'en:NL,France', 'France,Maroc', 'France,Deutschland,Frankreich', 'Belgium, en:france', 'Deutschland, en:france', 'Francia,España,France', 'France, en:switzerland, en:reunion', 'en:LU,France', 'République tchèque,France', 'España, en:france,France', 'en:ES,France', 'Germany, en:france,France', 'Germany,France', 'France,Slovenia', 'España,France', 'United Kingdom, en:france,France', 'France,Suède', 'France,Portugal', 'United Kingdom,Scotland, en:france', 'France,Allemagne,Italie,Suisse', 'France,Deutschland', 'Frankreich,Deutschland,France', 'Österreich,France', 'France,Sweden,Austria', 'Deutschland,Spanien,France', 'España, en:france', 'France,Allemagne,Royaume-Uni', 'France,Allemagne,Portugal,Espagne', 'en:PL,France', 'Autriche,République tchèque,France,Allemagne', 'France,Espagne,Suisse', 'Luxembourg,France', 'France,Portugal,Espagne', 'France,Irlande', 'en:GR,France', 'France,en:Scotland', 'Belgique,France,Allemagne,Italie,Pays-Bas,Portugal,Espagne', 'Autriche,France,Allemagne,Italie,Suisse', 'Belgium,France,Germany,Ireland,Netherlands,Portugal,Spain,United Kingdom', 'France,Belgique', 'Espagne,France', 'France,Hungary,Romania', 'Nigeria,France', 'France,Deutschland,Spanien', 'Belgique,France,Allemagne,Italie,Pays-Bas', 'France,Italie,Suisse', 'Francia,Portugal,España,France', 'France,Pays-Bas,Allemagne,Espagne', 'France,Spain', 'Ireland,United Kingdom, en:france', 'en:ES, en:france', 'en:MT,France', 'Belgique,France,Allemagne,Pays-Bas,Portugal,Espagne', 'Belgique,France,Allemagne', 'en:IE, en:france', 'Spain,France', 'Belgium,Czech Republic, en:france', 'en:RO,France', 'en:CH, en:france', 'France, en:belgium', 'France,Suisse,Allemagne', 'Switzerland,United States, en:france', 'Suisse,France', 'Pays-Bas,France', 'Pays-Bas, en:france', 'france', 'France,Guadeloupe', 'Réunion, en:france', 'France,Nouvelle-Calédonie', 'Portugal, en:france,France', 'Guyane, en:france', 'Saint-Pierre-et-Miquelon, en:france', 'Belgique,Brésil,Canada,France,Suisse', 'Belgique,France,Italie,Maroc,Suisse,Royaume-Uni', 'France, en:switzerland, en:belgium', 'Belgique,Canada,France,Allemagne,Irlande,Italie,Luxembourg,Pays-Bas,Portugal,Espagne,Suisse,Royaume-Uni,États-Unis,Mexique,Russie,Australie,Japon,Afrique du Sud,Argentine,Colombie,Suède,Arabie saoudite', 'Belgique,France,Suisse, en:germany', 'Algérie,Belgique,Canada,France,Allemagne,Italie,Mali,Martinique,Espagne,Suisse', 'France, en:belgium, en:switzerland', 'Guadeloupe, en:france', 'France, en:belgium, en:switzerland, en:reunion', 'France,Monaco,Suisse', 'Belgium,France,Réunion,Switzerland', 'France,La Réunion', 'Belgique,France,Polynésie française,Martinique,Suisse', 'Guadeloupe,France', 'French Guiana, en:france', 'France,Saint-Pierre-et-Miquelon,Suisse', 'France, en:reunion, en:switzerland', 'France,Germany,Switzerland', 'Danemark,France', 'Belgique,France,Suisse,Marseille 5°', 'France,Belgique,Luxembourg', 'France,Luxembourg', 'Guyane,France', 'France,Mali', 'France,Gabon', 'Belgique,France,Espagne,Suisse', 'Royaume-Uni,France, en:denmark, Suisse', 'Tunisia, en:france', 'Belgique,France,Allemagne,Suisse', 'en:MQ,France', 'France,Martinique', 'France,Mayotte', 'États-Unis, en:france', 'France,Allemagne,Portugal,Suisse', 'France,Espagne, Suisse', 'Belgium,France,Switzerland', 'Portugal, en:france', 'Austria,France,Germany,Italy,Netherlands,Switzerland', 'France,Tunisie', 'Denmark,France,Germany,Hungary,Portugal,Serbia,Spain,Switzerland,United Kingdom', 'Danemark,France,Hongrie,Suisse,Royaume-Uni', 'Danemark,France,Royaume-Uni', 'Belgique,Danemark,France,Suisse,Royaume-Uni', 'Francia,Alemania,Mauricio,España,Reino Unido,France', 'Danemark,France,Espagne,Suisse', 'France,Royaume-Uni, en:switzerland', 'Belgique,France,Guyane', 'en:KW,France', 'France,Koweït', 'France, en:reunion', 'Belgique,France,Mali,La Réunion,Suisse,Royaume-Uni', 'Belgique, en:france, Suisse', 'United Kingdom, en:france, Suisse', 'Франция,Россия,France', 'Switzerland, en:france', 'France, en:switzerland, en:belgium, en:united-kingdom', 'France,Pays-Bas,Suisse', 'France, en:switzerland, en:belgium, en:reunion, en:morocco', 'France, en:belgium, Suisse', 'Suisse,France, en:belgium, en:morocco, en:spain', 'en:BE, en:france, Suisse', 'France,Suisse, en:belgium', 'France,Russia', 'en:RE,France', 'Espagne,Suisse,France', 'en:BE, en:france,France', 'France,French Polynesia', 'France,Saint-Pierre-et-Miquelon', 'France,Portugal, en:switzerland, en:belgium', 'France, en:germany', 'Suisse, en:france,France', 'France,Monaco', 'en:NC,France', 'en:SN,France', 'France,Roumanie', 'Danemark,France,Suisse,Royaume-Uni', 'Belgium,France,Germany,Italy,Netherlands,Portugal,Spain,Switzerland,United Kingdom', 'en:GB, en:france', 'France, en:switzerland, en:belgium, en:morocco', 'Allemagne, en:france', 'Martinique,france', 'Guadeloupe,Martinique,Guyane, en:france', 'France,de:Deutschland, US', 'Royaume-Uni, en:france', 'en:RE, en:france, Suisse', 'Nederland, en:france', 'Thailand,France', 'France, en:senegal', 'France,Hong Kong', 'France, La Réunion', 'en:EU,France', 'Nouvelle-Calédonie,France', 'New Caledonia,France', 'France,Guadeloupe,Suisse', 'Guadeloupe, France', 'France,Saint-Martin', 'France,Suisse,Royaume-Uni', 'Belgique,Danemark,France,Allemagne', 'Maroc,France', 'Danemark,Royaume-Uni, en:france', 'France,Allemagne,Suisse,Espagne', 'Netherlands, en:france', 'Suède, en:france', 'france, en:switzerland', 'États-Unis, en:france,France', 'France,Vanuatu', 'Belgique,France,Grèce,Espagne', 'Belgique,France,Espagne', 'France,guadeloupe', 'Danemark,France, Suisse', 'France, en:denmark, Suisse', 'Belgium,France,Portugal', 'Saint-Pierre-et-Miquelon,France', 'France,Portugal,Belgium', 'Belgique,France,Pologne,Portugal', 'France,Belgium,Portugal', 'Belgique,France,Portugal', 'en:CI,France', 'Algeria,France,Belgium,Poland,Portugal', 'France,French Guiana', 'Guyane, en:france,France', 'Belgique,France,Luxembourg', 'Canada,France,Grèce,Pays-Bas,Espagne,Royaume-Uni,États-Unis', 'Sénégal,France', 'Guyane, France,France', 'France,Portugal,Spain,United Kingdom', 'France,Spain,United Kingdom', 'Polynésie française,France', 'en:MC,France', 'Nouvelle-Calédonie, en:france', 'Belgique,France,Mali,Suisse,Royaume-Uni', 'en:IT,France', 'France,Belgique,Pays-Bas', 'France,Belgium,Spain', 'France,Belgium,Italy', 'Belgium,France,Germany,Switzerland', 'France,Netherlands,Switzerland, en:belgium', 'Belgique,France,Italie,Luxembourg,Mali,Martinique,Suisse', 'France,Belgique,Pays-Bas,Allemagne', 'France,Italia', 'en:GB, en:france,France', 'Réunion,France', 'France,Réunion', 'Algérie,France', 'Suisse,France,Belgique', 'en:GP,France', 'France,Bourgogne-Aube-Nogent sur Seine', 'Guadeloupe,Martinique, en:france', 'Belgique,France,Allemagne,Italie,Pays-Bas,Espagne', 'Belgium,France,Luxembourg,Switzerland', 'France,China', 'Guadeloupe, en:france,France', 'Belgique,France,Allemagne,Italie,Pays-Bas,Royaume-Uni', 'Danemark,France,Guadeloupe', 'en:FR, en:denmark,France', 'en:CN,France', 'France,Belgium,Poland,Portugal', 'France,de:Deutschland, Suisse', 'Puyricard,France', 'France,Puyricard', 'France,Italy,Spain', 'France,Écosse,Royaume-Uni', 'France,United Arab Emirates', 'en:PF,France', 'Martinique, en:france', 'France, en:denmark', 'en:GF,France', 'France,Belgium,Spain,Italy', 'Belgium,France,Greece', 'Belgique,France,Guadeloupe', 'Algérie,Belgique,Canada,France,Maroc,Suisse', 'Union européenne,France', 'Frankrijk,Griekenland,Spanje,France', 'France,Espagne, en:french-polynesia', 'Martinique,France', 'France,Grèce,Pays-Bas', 'France,Espagne,Italie,Portugal', 'Belgique, en:france,France', 'Belgium,France,Netherlands', 'France, en:morocco', 'France,Estonia', 'France,Belgique,Allemagne', 'France,Russie', 'La Réunion,France', 'en:BR,France', 'Belgium,France,Italy,United Kingdom', 'France,Italy,Netherlands,United Kingdom', 'en:FR, Suisse,France', 'Suisse,Belgique,France', 'Autriche,Danemark,France,Allemagne,Pays-Bas,Espagne,Suisse', 'Australia,Czech Republic,France,Germany,Hungary', 'Danemark,France,Allemagne,Russie,Espagne,Royaume-Uni', 'Denmark,France,Germany', 'Belgique,France,Hongrie', 'France,Deutschland,Schweiz', 'Australie,Belgique,France, en:switzerland', 'France,Australia', 'Australie,France,Allemagne,Suisse', 'Deutschland, en:france,France', 'spain,France', 'en:LU, en:france', 'France,Allemagne,Italie', 'France,Germany, Suisse', 'en:MA, en:france', 'République tchèque,France, Suisse', 'Allemagne,Suisse,France', 'Allemagne,france', 'Danemark,France,Allemagne', 'France,Allemagne, Suisse', 'en:BE, Suisse,France', 'France,Russie, Suisse', 'en:CZ,France', 'France,Luxembourg,Suisse', 'Denmark,France,Germany,Switzerland,Hungary,Serbia,Montenegro', 'France,Saudi Arabia,Germany, en:switzerland, en:belgium', 'France,Sweden', 'France,Germany,Greece,Spain', 'en:TH,France', 'France, en:india', 'Belgique,France,World', 'Schweiz,Deutschland,France', 'Finland,France,Greece,Italy,Spain,Sweden', 'Belgique,France,Pologne,Suisse', 'en:MQ, en:france', 'France,Frankreich', 'en:DE, Suisse,France', 'en:DZ, en:france', 'en:FR, en:netherlands', 'en:PT,France', 'Belgique,France,Allemagne,Pays-Bas', 'France,Allemagne,Deutschland', 'Japan,France', 'Finland,France', 'France,Russie,Royaume-Uni', 'France,Sri Lanka', 'France,Japan', 'France,Belgique,Danemark', 'France,Émirats arabes unis', 'Mozambique, en:france', 'Algérie,Belgique,Égypte,France,Maroc,Qatar,Suisse,Tunisie,Émirats arabes unis', 'France,Netherlands', 'Belgium,France,Germany,Italy,Morocco,Portugal,Serbia,Switzerland,Sweden', 'Australie,France, Suisse', 'Danemark,France,Suisse', 'en:SA,France', 'Italia,France', 'France,Hong Kong,Japan,Taiwan,United States,Belgium', 'Portugal,United Kingdom, en:france', 'Deutschland,Irland,Schweiz,France', 'France,Suisse,Belgique', 'France,Switzerland,Czech Republic', 'Autriche,France, Suisse', 'France,Allemagne,Pays-Bas,Royaume-Uni', 'France,Royaume-Uni,Écosse', 'Italie, en:france', 'France, en:denmark, en:switzerland', 'en:AE,France', 'France,Scotland,United Kingdom', 'Portugal,France', 'Österreich, en:france', 'France,Royaume-Uni,canada', 'en:SG, en:france', 'Denmark,France, US', 'France,Espagne,Grèce,Allemagne,Belgique,Pays-Bas', 'France,Belgique,Grèce,Pays-Bas,Espagne', 'Autriche,Belgique,Danemark,France,Allemagne,Pays-Bas,Suède,Suisse', 'Belgique,France,Italie,La Réunion,Suisse', 'France,Italie,Espagne', 'en:SE, en:france, en:switzerland, en:belgium', 'France,Switzerland,Finland,Denmark,Italy', 'Germany, en:france', 'France,united kingdom', 'Finland,France,Germany,Ireland,Spain,Switzerland,United Kingdom,Estonia', 'Australia,France,United Kingdom,Scotland', 'France,United Kingdom, Suisse', 'France,Italie,Royaume-Uni', 'en:KH,France', 'Albania,France', 'en:IE,France', 'France,Serbie', 'France,belgique', 'Belgium,France,Germany,Italy,Spain', 'Italy,Belgium,Germany,France,Denmark,Netherlands,Sweden,Norway', 'Belgium,Denmark,France,Morocco,Switzerland,Finland,Sweden,Spain,Italy', 'Belgique,France,Maroc,Suisse', 'Danemark,France,Portugal, Suisse', 'France,Suisse, en:denmark', 'Australia, en:france', 'France,Belgique,Suisse,Pays-Bas', 'France, en:switzerland, en:belgium, en:spain', 'France, en:switzerland, en:united-kingdom', 'Sweden, en:france', 'Luxembourg,Belgium,France', 'France,Germany,Italy,Norway,Spain,Sweden,United Kingdom', 'Spain, en:france, Suisse', 'Belgium,Czech Republic,Denmark,France,Germany,Italy,Netherlands,New Zealand,Spain,Sweden,United Kingdom', 'France,Belgique,Luxembourg,Pays-Bas', 'France,Belgium,Netherlands', 'France,Italy', 'belgium, en:france', 'United Kingdom, en:denmark, en:france', 'Belgium,France,Italy,Spain', 'France,Belgiqu,Belgique', 'Spain,France, Suisse', 'Belgium,France,Italy,Netherlands,Spain,United Kingdom', 'France,Belgique,Pays-Bas,Espagne,Italie,Allemagne,Hongrie', 'France,Italy,Switzerland', 'United Kingdom, en:france, en:belgium', 'en:RO, Suisse,France', 'France,Italy,Luxembourg,Netherlands,Spain', 'Belgium,France,Netherlands,Spain,United Kingdom', 'Belgium,France,Germany,Netherlands,Spain,Switzerland,United Kingdom', 'Belgique,France,Allemagne,Hongrie,Suisse', 'Belgium,France,Hungary,Italy,Quebec', 'France,United Kingdom, en:belgium, Suisse', 'Belgique,France,Russie', 'Belgium,France,Italy', 'Belgium,Canada,France', 'Czech Republic,France,Iraq, en:belgium, en:switzerland, en:reunion', 'Morocco,France', 'France,Luxembourg,Mali,Martinique,Portugal,Réunion,United Kingdom,United States,Senegal,Germany,Brazil,India,Italy,Belgium,Cameroon,Canada,Morocco,Netherlands,Switzerland,Spain,Algeria,Saudi Arabia', 'Czech Republic,France', 'Belgique,France,Espagne,Suisse,Royaume-Uni', 'France,Koweït, en:belgium', 'France,Pologne', 'Suisse,Royaume-Uni,France', 'France,Serbia,Switzerland', 'Belgique,France, en:switzerland, en:spain, en:reunion', 'United Kingdom, en:france, en:switzerland', 'Belgique,France,Serbie,Suisse', 'Austria,Belgium,France', 'Qatar, en:france', 'العراق,المملكة المتحدة, en:france', 'Algérie,Belgique,France,Allemagne,Guadeloupe,Italie,Liban,Luxembourg,Martinique,Maroc,Pays-Bas,Portugal,La Réunion,Sénégal,Espagne,Suisse,Royaume-Uni', 'Belgique,France,Italie,Suisse', 'République tchèque,France,Suisse', 'France,United Kingdom, en:belgium', 'France,Portugal,Suisse', 'Portugal,france', 'Brazil,Switzerland,France', 'en:PT, en:france', 'Portugal, Suisse,France', 'France,United States,Switzerland', 'Portugal,Suisse,France', 'Finlande,France', 'France,Danemark', 'France,Brazil,Australia,Canada,Denmark,Finland,Hong-Kong,Ireland,Italy,Netherlands,Norway,Portugal,Spain,Sweden,United Kingdom', 'Polska, en:france', 'Danemark,Finlande,France', 'Poland,Polska, en:france', 'Belgium,Denmark,France,Poland', 'France,Poland,United Kingdom', 'Belgique,France,Grèce,Italie,Espagne,Suisse,Royaume-Uni', 'en:MW, en:france', 'France,Mauritius', 'France,Maurice', 'République démocratique du Congo,France', 'en:DZ,France', 'Algeria, en:france', 'en:GA, en:france', 'Tunisia,France', 'Tunisie,France', 'en:QA,France', 'China,France', 'France,Norvège', 'Israel, en:france', 'France, en:switzerland, en:belgium, en:reunion', 'en:DK,France', 'France,Finlande,Allemagne,Pays-Bas,Norvège,Espagne,Suède,Royaume-Uni', 'France,Guadeloupe,Italie,Pays-Bas,Norvège,Suède,Suisse,Royaume-Uni', 'México, en:france', 'Suisse, en:france, en:belgium', 'Switzerland,France, Allemagne', 'Deutschland,Schweiz, en:france', 'en:FR, en:denmark', 'France,Denmark', 'Denmark,France', 'United Kingdom, en:france, Suisse,France', 'France,Ireland,United Kingdom', 'România, en:france', 'Deutschland, en:france, en:spain', 'France,Belgique, en:switzerland', 'France,Italy,Portugal,Spain', 'Denmark, en:france', 'République centrafricaine,France', 'en:PT, en:france, en:belgium, en:spain,France', 'Italy, en:france', 'Autriche,France,Suisse', 'Suisse,France, en:belgium', 'France,Australia, Suisse', 'France,Andorre', 'France,Switzerland,Allemagne', 'Suisse,France, Allemagne', 'France,Suisse,Germany', 'France,Switzerland,Germany', 'en:CZ, en:france', 'France, en:belgium, en:switzerland, en:morocco', 'Bulgarie,France', 'en:PL, en:france', 'Bulgaria,France', 'en:BY,France', 'France,Ukraine', 'France,Allemagne,Suisse,Tunisie', 'en:DE, en:denmark, en:france', 'Denmark,France,Switzerland,Belgium,Spain,Sweden,Finland', 'en:AT, en:france', 'Réunion,France, Suisse', 'Brasil, en:france', 'Belgium,Denmark,Finland,France,Italy,Netherlands,Portugal,Spain,Sweden', 'Austria, en:france', 'Autriche,France,Royaume-Uni,Suisse', 'Colombia,France', 'Argentina,France,Switzerland', 'France,Argentine', 'Argentina,Costa Rica,France,Germany,Italy,Mexico,Spain,United Kingdom,Sweden', 'Brazil, en:france', 'Brazil,France', 'Brésil,France', 'France,Mexico', 'Switzerland,Germany,France', 'Belgique,France,Maroc,Espagne,Suisse', 'European Union, en:france', 'Italia, en:france', 'France,Belgique,Hongrie', 'France,Germany,Belgium', 'Danemark,France,Italie,Suisse,Royaume-Uni', 'Danemark,Italie,France', 'France, en:switzerland, en:belgium, en:luxembourg', 'en:IT, en:france', 'España, en:france, Suisse', 'Danemark,France,Allemagne,Suisse', 'France,Portugal,Croatia', 'en:NL, en:france', 'France,Serbia', 'Regno Unito, en:france', 'France,italie', 'France, en:italy', 'Italie,Monaco,France', 'France,Germany,Greece,Sweden,United Kingdom', 'Belgique, en:denmark, en:france,France', 'France,Italy,Spain, Suisse', 'Denmark,France,Switzerland', 'Belgique,Suisse,France,Allemagne', 'Belgique,France,Hongrie,Suisse,Royaume-Uni', 'Guadeloupe,Hungary,Slovenia,United Kingdom, en:france,France', 'China,Denmark,France,Sweden,Spain', 'France,Italie,Lituanie', 'Portugal,Espanha, en:france', 'Italie,France', 'France,Italie,Pays-Bas', 'Belgium,France,Italy,Switzerland', 'New Zealand, en:france, Suisse', 'France,Portugal,Switzerland', 'Belgique,France,Grèce,Espagne,Suisse', 'France, en:switzerland, en:italy', 'en:IT, en:france, Suisse,France', 'France,Nederland', 'Belgium, Canada, Denmark, France, Germany, Morocco, Spain, Switzerland', 'France, en:spain', 'Belgique,france', 'Austria,France,Germany,Morocco,Netherlands,United Kingdom', 'Belgique,France,Espagne, en:switzerland', 'France,Slovakia,Czech Republic,South Africa,Greece,South Korea,Kuwait,Poland,Maldives,China', 'France,République tchèque', 'France,Arabie saoudite,Serbie', 'France,Republic of Macedonia,Serbia', 'Croatie,France', 'Belgique,Danemark, en:france', 'France,Netherlands,Spain,United Kingdom', 'Germany,Greece,Spain,France', 'Belgique,France,Martinique,Suisse', 'France,Grèce', 'Belgium,France,Netherlands,Switzerland', 'France, en:guadeloupe', 'Switzerland,France,Netherlands', 'France,United Kingdom,Ireland,Belgium,Spain,Hungary,Singapore', 'France,Germany,Belgium,Austria,Switzerland,Netherlands', 'Austria,Belgium,France,Germany,Netherlands,Switzerland,Sweden', 'France,Nouvelle-Zélande,Singapour', 'France,Pays-Bas, Suisse', 'Denmark,France,Switzerland,Belgium,Sweden', 'France,Allemagne,Espagne,Suisse', 'Danemark, en:france, en:belgium, en:switzerland', 'Belgique,France,Nouvelle-Calédonie,Espagne,Suisse', 'Belgium,France,Serbia', 'France,Belgium,Portugal,Spain', 'Ireland, en:france', 'Portugal,Netherlands,Belgium,Switzerland,Spain,France,Germany', 'Países Baixos,Portugal, en:france', 'Canada,France,Germany,United Kingdom', 'en:EG,France', 'FR, US', 'Belgique,Chili,France', 'France,United States, Suisse', 'France,Thailand,United Kingdom, Suisse', 'Chine,France,Viêt Nam', 'Belgium,France,Germany, en:denmark', 'Germany, en:denmark, en:france', 'France,Hungary,United Kingdom', 'Spain,Portugal,Italy,France', 'en:HR, en:france', 'en:HK,France', 'France,Autriche,Allemagne', 'France,Polynésie française,Nouvelle-Calédonie', 'en:NZ, en:france', 'New Zealand, en:france', 'Australia, en:france, en:switzerland, en:belgium', 'Polynésie française,france', 'France,Australie', 'en:CK,France', 'en:HK, en:france']\n"
     ]
    }
   ],
   "source": [
    "kept_countries = []\n",
    "search = 'france'\n",
    "second_search = 'FR'\n",
    "for element in list_countries:\n",
    "    #print(element, type(element))\n",
    "    if search in element.lower() or second_search in element:\n",
    "        kept_countries.append(element)\n",
    "\n",
    "print(kept_countries)"
   ]
  },
  {
   "cell_type": "code",
   "execution_count": 16,
   "metadata": {},
   "outputs": [
    {
     "name": "stdout",
     "output_type": "stream",
     "text": [
      "705\n"
     ]
    }
   ],
   "source": [
    "print(len(kept_countries))"
   ]
  },
  {
   "cell_type": "code",
   "execution_count": 17,
   "metadata": {},
   "outputs": [],
   "source": [
    "nutriscore_table = nutriscore_table.loc[nutriscore_table['countries'].isin(kept_countries)]"
   ]
  },
  {
   "cell_type": "code",
   "execution_count": 18,
   "metadata": {},
   "outputs": [
    {
     "data": {
      "text/plain": [
       "(128909, 25)"
      ]
     },
     "execution_count": 18,
     "metadata": {},
     "output_type": "execute_result"
    }
   ],
   "source": [
    "nutriscore_table.shape"
   ]
  },
  {
   "cell_type": "code",
   "execution_count": 19,
   "metadata": {},
   "outputs": [
    {
     "data": {
      "text/html": [
       "<div>\n",
       "<style scoped>\n",
       "    .dataframe tbody tr th:only-of-type {\n",
       "        vertical-align: middle;\n",
       "    }\n",
       "\n",
       "    .dataframe tbody tr th {\n",
       "        vertical-align: top;\n",
       "    }\n",
       "\n",
       "    .dataframe thead th {\n",
       "        text-align: right;\n",
       "    }\n",
       "</style>\n",
       "<table border=\"1\" class=\"dataframe\">\n",
       "  <thead>\n",
       "    <tr style=\"text-align: right;\">\n",
       "      <th></th>\n",
       "      <th>product_name</th>\n",
       "      <th>generic_name</th>\n",
       "      <th>brands</th>\n",
       "      <th>categories</th>\n",
       "      <th>countries</th>\n",
       "      <th>nutrition_grade_fr</th>\n",
       "      <th>energy_100g</th>\n",
       "      <th>energy-from-fat_100g</th>\n",
       "      <th>fat_100g</th>\n",
       "      <th>saturated-fat_100g</th>\n",
       "      <th>carbohydrates_100g</th>\n",
       "      <th>sugars_100g</th>\n",
       "      <th>-sucrose_100g</th>\n",
       "      <th>-glucose_100g</th>\n",
       "      <th>-fructose_100g</th>\n",
       "      <th>-lactose_100g</th>\n",
       "      <th>-maltose_100g</th>\n",
       "      <th>-maltodextrins_100g</th>\n",
       "      <th>fiber_100g</th>\n",
       "      <th>proteins_100g</th>\n",
       "      <th>salt_100g</th>\n",
       "      <th>sodium_100g</th>\n",
       "      <th>fruits-vegetables-nuts_100g</th>\n",
       "      <th>nutrition-score-fr_100g</th>\n",
       "      <th>nutrition-score-uk_100g</th>\n",
       "    </tr>\n",
       "  </thead>\n",
       "  <tbody>\n",
       "    <tr>\n",
       "      <th>0</th>\n",
       "      <td>Farine de blé noir</td>\n",
       "      <td>NaN</td>\n",
       "      <td>Ferme t'y R'nao</td>\n",
       "      <td>NaN</td>\n",
       "      <td>en:FR</td>\n",
       "      <td>NaN</td>\n",
       "      <td>NaN</td>\n",
       "      <td>NaN</td>\n",
       "      <td>NaN</td>\n",
       "      <td>NaN</td>\n",
       "      <td>NaN</td>\n",
       "      <td>NaN</td>\n",
       "      <td>NaN</td>\n",
       "      <td>NaN</td>\n",
       "      <td>NaN</td>\n",
       "      <td>NaN</td>\n",
       "      <td>NaN</td>\n",
       "      <td>NaN</td>\n",
       "      <td>NaN</td>\n",
       "      <td>NaN</td>\n",
       "      <td>NaN</td>\n",
       "      <td>NaN</td>\n",
       "      <td>NaN</td>\n",
       "      <td>NaN</td>\n",
       "      <td>NaN</td>\n",
       "    </tr>\n",
       "    <tr>\n",
       "      <th>46</th>\n",
       "      <td>Naturablue original</td>\n",
       "      <td>NaN</td>\n",
       "      <td>Natura4ever</td>\n",
       "      <td>NaN</td>\n",
       "      <td>en:FR</td>\n",
       "      <td>NaN</td>\n",
       "      <td>NaN</td>\n",
       "      <td>NaN</td>\n",
       "      <td>NaN</td>\n",
       "      <td>NaN</td>\n",
       "      <td>NaN</td>\n",
       "      <td>NaN</td>\n",
       "      <td>NaN</td>\n",
       "      <td>NaN</td>\n",
       "      <td>NaN</td>\n",
       "      <td>NaN</td>\n",
       "      <td>NaN</td>\n",
       "      <td>NaN</td>\n",
       "      <td>NaN</td>\n",
       "      <td>NaN</td>\n",
       "      <td>NaN</td>\n",
       "      <td>NaN</td>\n",
       "      <td>NaN</td>\n",
       "      <td>NaN</td>\n",
       "      <td>NaN</td>\n",
       "    </tr>\n",
       "    <tr>\n",
       "      <th>47</th>\n",
       "      <td>Filet de bœuf</td>\n",
       "      <td>NaN</td>\n",
       "      <td>NaN</td>\n",
       "      <td>Filet de bœuf</td>\n",
       "      <td>France</td>\n",
       "      <td>NaN</td>\n",
       "      <td>NaN</td>\n",
       "      <td>NaN</td>\n",
       "      <td>NaN</td>\n",
       "      <td>NaN</td>\n",
       "      <td>NaN</td>\n",
       "      <td>NaN</td>\n",
       "      <td>NaN</td>\n",
       "      <td>NaN</td>\n",
       "      <td>NaN</td>\n",
       "      <td>NaN</td>\n",
       "      <td>NaN</td>\n",
       "      <td>NaN</td>\n",
       "      <td>NaN</td>\n",
       "      <td>NaN</td>\n",
       "      <td>NaN</td>\n",
       "      <td>NaN</td>\n",
       "      <td>NaN</td>\n",
       "      <td>NaN</td>\n",
       "      <td>NaN</td>\n",
       "    </tr>\n",
       "    <tr>\n",
       "      <th>49</th>\n",
       "      <td>NaN</td>\n",
       "      <td>NaN</td>\n",
       "      <td>NaN</td>\n",
       "      <td>NaN</td>\n",
       "      <td>en:FR</td>\n",
       "      <td>NaN</td>\n",
       "      <td>NaN</td>\n",
       "      <td>NaN</td>\n",
       "      <td>NaN</td>\n",
       "      <td>NaN</td>\n",
       "      <td>NaN</td>\n",
       "      <td>NaN</td>\n",
       "      <td>NaN</td>\n",
       "      <td>NaN</td>\n",
       "      <td>NaN</td>\n",
       "      <td>NaN</td>\n",
       "      <td>NaN</td>\n",
       "      <td>NaN</td>\n",
       "      <td>NaN</td>\n",
       "      <td>NaN</td>\n",
       "      <td>NaN</td>\n",
       "      <td>NaN</td>\n",
       "      <td>NaN</td>\n",
       "      <td>NaN</td>\n",
       "      <td>NaN</td>\n",
       "    </tr>\n",
       "    <tr>\n",
       "      <th>51</th>\n",
       "      <td>Naturakrill original</td>\n",
       "      <td>NaN</td>\n",
       "      <td>Natura4ever</td>\n",
       "      <td>NaN</td>\n",
       "      <td>en:FR</td>\n",
       "      <td>NaN</td>\n",
       "      <td>NaN</td>\n",
       "      <td>NaN</td>\n",
       "      <td>NaN</td>\n",
       "      <td>NaN</td>\n",
       "      <td>NaN</td>\n",
       "      <td>NaN</td>\n",
       "      <td>NaN</td>\n",
       "      <td>NaN</td>\n",
       "      <td>NaN</td>\n",
       "      <td>NaN</td>\n",
       "      <td>NaN</td>\n",
       "      <td>NaN</td>\n",
       "      <td>NaN</td>\n",
       "      <td>NaN</td>\n",
       "      <td>NaN</td>\n",
       "      <td>NaN</td>\n",
       "      <td>NaN</td>\n",
       "      <td>NaN</td>\n",
       "      <td>NaN</td>\n",
       "    </tr>\n",
       "  </tbody>\n",
       "</table>\n",
       "</div>"
      ],
      "text/plain": [
       "            product_name generic_name           brands     categories  \\\n",
       "0     Farine de blé noir          NaN  Ferme t'y R'nao            NaN   \n",
       "46   Naturablue original          NaN      Natura4ever            NaN   \n",
       "47         Filet de bœuf          NaN              NaN  Filet de bœuf   \n",
       "49                   NaN          NaN              NaN            NaN   \n",
       "51  Naturakrill original          NaN      Natura4ever            NaN   \n",
       "\n",
       "   countries nutrition_grade_fr  energy_100g  energy-from-fat_100g  fat_100g  \\\n",
       "0      en:FR                NaN          NaN                   NaN       NaN   \n",
       "46     en:FR                NaN          NaN                   NaN       NaN   \n",
       "47    France                NaN          NaN                   NaN       NaN   \n",
       "49     en:FR                NaN          NaN                   NaN       NaN   \n",
       "51     en:FR                NaN          NaN                   NaN       NaN   \n",
       "\n",
       "    saturated-fat_100g  carbohydrates_100g  sugars_100g  -sucrose_100g  \\\n",
       "0                  NaN                 NaN          NaN            NaN   \n",
       "46                 NaN                 NaN          NaN            NaN   \n",
       "47                 NaN                 NaN          NaN            NaN   \n",
       "49                 NaN                 NaN          NaN            NaN   \n",
       "51                 NaN                 NaN          NaN            NaN   \n",
       "\n",
       "    -glucose_100g  -fructose_100g  -lactose_100g  -maltose_100g  \\\n",
       "0             NaN             NaN            NaN            NaN   \n",
       "46            NaN             NaN            NaN            NaN   \n",
       "47            NaN             NaN            NaN            NaN   \n",
       "49            NaN             NaN            NaN            NaN   \n",
       "51            NaN             NaN            NaN            NaN   \n",
       "\n",
       "    -maltodextrins_100g  fiber_100g  proteins_100g  salt_100g  sodium_100g  \\\n",
       "0                   NaN         NaN            NaN        NaN          NaN   \n",
       "46                  NaN         NaN            NaN        NaN          NaN   \n",
       "47                  NaN         NaN            NaN        NaN          NaN   \n",
       "49                  NaN         NaN            NaN        NaN          NaN   \n",
       "51                  NaN         NaN            NaN        NaN          NaN   \n",
       "\n",
       "    fruits-vegetables-nuts_100g  nutrition-score-fr_100g  \\\n",
       "0                           NaN                      NaN   \n",
       "46                          NaN                      NaN   \n",
       "47                          NaN                      NaN   \n",
       "49                          NaN                      NaN   \n",
       "51                          NaN                      NaN   \n",
       "\n",
       "    nutrition-score-uk_100g  \n",
       "0                       NaN  \n",
       "46                      NaN  \n",
       "47                      NaN  \n",
       "49                      NaN  \n",
       "51                      NaN  "
      ]
     },
     "execution_count": 19,
     "metadata": {},
     "output_type": "execute_result"
    }
   ],
   "source": [
    "nutriscore_table.head()"
   ]
  },
  {
   "cell_type": "markdown",
   "metadata": {},
   "source": [
    "## Valeurs manquantes - values_100g"
   ]
  },
  {
   "cell_type": "code",
   "execution_count": 20,
   "metadata": {},
   "outputs": [],
   "source": [
    "values_100g = ['fat_100g', 'saturated-fat_100g', 'carbohydrates_100g', 'sugars_100g', 'fiber_100g', 'proteins_100g', 'salt_100g', 'sodium_100g', 'fruits-vegetables-nuts_100g']"
   ]
  },
  {
   "cell_type": "code",
   "execution_count": 21,
   "metadata": {},
   "outputs": [],
   "source": [
    "nutriscore_table['Missing_100g'] = nutriscore_table[values_100g].isnull().sum(axis=1)"
   ]
  },
  {
   "cell_type": "code",
   "execution_count": 22,
   "metadata": {},
   "outputs": [
    {
     "data": {
      "text/html": [
       "<div>\n",
       "<style scoped>\n",
       "    .dataframe tbody tr th:only-of-type {\n",
       "        vertical-align: middle;\n",
       "    }\n",
       "\n",
       "    .dataframe tbody tr th {\n",
       "        vertical-align: top;\n",
       "    }\n",
       "\n",
       "    .dataframe thead th {\n",
       "        text-align: right;\n",
       "    }\n",
       "</style>\n",
       "<table border=\"1\" class=\"dataframe\">\n",
       "  <thead>\n",
       "    <tr style=\"text-align: right;\">\n",
       "      <th></th>\n",
       "      <th>product_name</th>\n",
       "      <th>generic_name</th>\n",
       "      <th>brands</th>\n",
       "      <th>categories</th>\n",
       "      <th>countries</th>\n",
       "      <th>nutrition_grade_fr</th>\n",
       "      <th>energy_100g</th>\n",
       "      <th>energy-from-fat_100g</th>\n",
       "      <th>fat_100g</th>\n",
       "      <th>saturated-fat_100g</th>\n",
       "      <th>carbohydrates_100g</th>\n",
       "      <th>sugars_100g</th>\n",
       "      <th>-sucrose_100g</th>\n",
       "      <th>-glucose_100g</th>\n",
       "      <th>-fructose_100g</th>\n",
       "      <th>-lactose_100g</th>\n",
       "      <th>-maltose_100g</th>\n",
       "      <th>-maltodextrins_100g</th>\n",
       "      <th>fiber_100g</th>\n",
       "      <th>proteins_100g</th>\n",
       "      <th>salt_100g</th>\n",
       "      <th>sodium_100g</th>\n",
       "      <th>fruits-vegetables-nuts_100g</th>\n",
       "      <th>nutrition-score-fr_100g</th>\n",
       "      <th>nutrition-score-uk_100g</th>\n",
       "      <th>Missing_100g</th>\n",
       "    </tr>\n",
       "  </thead>\n",
       "  <tbody>\n",
       "    <tr>\n",
       "      <th>0</th>\n",
       "      <td>Farine de blé noir</td>\n",
       "      <td>NaN</td>\n",
       "      <td>Ferme t'y R'nao</td>\n",
       "      <td>NaN</td>\n",
       "      <td>en:FR</td>\n",
       "      <td>NaN</td>\n",
       "      <td>NaN</td>\n",
       "      <td>NaN</td>\n",
       "      <td>NaN</td>\n",
       "      <td>NaN</td>\n",
       "      <td>NaN</td>\n",
       "      <td>NaN</td>\n",
       "      <td>NaN</td>\n",
       "      <td>NaN</td>\n",
       "      <td>NaN</td>\n",
       "      <td>NaN</td>\n",
       "      <td>NaN</td>\n",
       "      <td>NaN</td>\n",
       "      <td>NaN</td>\n",
       "      <td>NaN</td>\n",
       "      <td>NaN</td>\n",
       "      <td>NaN</td>\n",
       "      <td>NaN</td>\n",
       "      <td>NaN</td>\n",
       "      <td>NaN</td>\n",
       "      <td>9</td>\n",
       "    </tr>\n",
       "    <tr>\n",
       "      <th>46</th>\n",
       "      <td>Naturablue original</td>\n",
       "      <td>NaN</td>\n",
       "      <td>Natura4ever</td>\n",
       "      <td>NaN</td>\n",
       "      <td>en:FR</td>\n",
       "      <td>NaN</td>\n",
       "      <td>NaN</td>\n",
       "      <td>NaN</td>\n",
       "      <td>NaN</td>\n",
       "      <td>NaN</td>\n",
       "      <td>NaN</td>\n",
       "      <td>NaN</td>\n",
       "      <td>NaN</td>\n",
       "      <td>NaN</td>\n",
       "      <td>NaN</td>\n",
       "      <td>NaN</td>\n",
       "      <td>NaN</td>\n",
       "      <td>NaN</td>\n",
       "      <td>NaN</td>\n",
       "      <td>NaN</td>\n",
       "      <td>NaN</td>\n",
       "      <td>NaN</td>\n",
       "      <td>NaN</td>\n",
       "      <td>NaN</td>\n",
       "      <td>NaN</td>\n",
       "      <td>9</td>\n",
       "    </tr>\n",
       "    <tr>\n",
       "      <th>47</th>\n",
       "      <td>Filet de bœuf</td>\n",
       "      <td>NaN</td>\n",
       "      <td>NaN</td>\n",
       "      <td>Filet de bœuf</td>\n",
       "      <td>France</td>\n",
       "      <td>NaN</td>\n",
       "      <td>NaN</td>\n",
       "      <td>NaN</td>\n",
       "      <td>NaN</td>\n",
       "      <td>NaN</td>\n",
       "      <td>NaN</td>\n",
       "      <td>NaN</td>\n",
       "      <td>NaN</td>\n",
       "      <td>NaN</td>\n",
       "      <td>NaN</td>\n",
       "      <td>NaN</td>\n",
       "      <td>NaN</td>\n",
       "      <td>NaN</td>\n",
       "      <td>NaN</td>\n",
       "      <td>NaN</td>\n",
       "      <td>NaN</td>\n",
       "      <td>NaN</td>\n",
       "      <td>NaN</td>\n",
       "      <td>NaN</td>\n",
       "      <td>NaN</td>\n",
       "      <td>9</td>\n",
       "    </tr>\n",
       "    <tr>\n",
       "      <th>49</th>\n",
       "      <td>NaN</td>\n",
       "      <td>NaN</td>\n",
       "      <td>NaN</td>\n",
       "      <td>NaN</td>\n",
       "      <td>en:FR</td>\n",
       "      <td>NaN</td>\n",
       "      <td>NaN</td>\n",
       "      <td>NaN</td>\n",
       "      <td>NaN</td>\n",
       "      <td>NaN</td>\n",
       "      <td>NaN</td>\n",
       "      <td>NaN</td>\n",
       "      <td>NaN</td>\n",
       "      <td>NaN</td>\n",
       "      <td>NaN</td>\n",
       "      <td>NaN</td>\n",
       "      <td>NaN</td>\n",
       "      <td>NaN</td>\n",
       "      <td>NaN</td>\n",
       "      <td>NaN</td>\n",
       "      <td>NaN</td>\n",
       "      <td>NaN</td>\n",
       "      <td>NaN</td>\n",
       "      <td>NaN</td>\n",
       "      <td>NaN</td>\n",
       "      <td>9</td>\n",
       "    </tr>\n",
       "    <tr>\n",
       "      <th>51</th>\n",
       "      <td>Naturakrill original</td>\n",
       "      <td>NaN</td>\n",
       "      <td>Natura4ever</td>\n",
       "      <td>NaN</td>\n",
       "      <td>en:FR</td>\n",
       "      <td>NaN</td>\n",
       "      <td>NaN</td>\n",
       "      <td>NaN</td>\n",
       "      <td>NaN</td>\n",
       "      <td>NaN</td>\n",
       "      <td>NaN</td>\n",
       "      <td>NaN</td>\n",
       "      <td>NaN</td>\n",
       "      <td>NaN</td>\n",
       "      <td>NaN</td>\n",
       "      <td>NaN</td>\n",
       "      <td>NaN</td>\n",
       "      <td>NaN</td>\n",
       "      <td>NaN</td>\n",
       "      <td>NaN</td>\n",
       "      <td>NaN</td>\n",
       "      <td>NaN</td>\n",
       "      <td>NaN</td>\n",
       "      <td>NaN</td>\n",
       "      <td>NaN</td>\n",
       "      <td>9</td>\n",
       "    </tr>\n",
       "  </tbody>\n",
       "</table>\n",
       "</div>"
      ],
      "text/plain": [
       "            product_name generic_name           brands     categories  \\\n",
       "0     Farine de blé noir          NaN  Ferme t'y R'nao            NaN   \n",
       "46   Naturablue original          NaN      Natura4ever            NaN   \n",
       "47         Filet de bœuf          NaN              NaN  Filet de bœuf   \n",
       "49                   NaN          NaN              NaN            NaN   \n",
       "51  Naturakrill original          NaN      Natura4ever            NaN   \n",
       "\n",
       "   countries nutrition_grade_fr  energy_100g  energy-from-fat_100g  fat_100g  \\\n",
       "0      en:FR                NaN          NaN                   NaN       NaN   \n",
       "46     en:FR                NaN          NaN                   NaN       NaN   \n",
       "47    France                NaN          NaN                   NaN       NaN   \n",
       "49     en:FR                NaN          NaN                   NaN       NaN   \n",
       "51     en:FR                NaN          NaN                   NaN       NaN   \n",
       "\n",
       "    saturated-fat_100g  carbohydrates_100g  sugars_100g  -sucrose_100g  \\\n",
       "0                  NaN                 NaN          NaN            NaN   \n",
       "46                 NaN                 NaN          NaN            NaN   \n",
       "47                 NaN                 NaN          NaN            NaN   \n",
       "49                 NaN                 NaN          NaN            NaN   \n",
       "51                 NaN                 NaN          NaN            NaN   \n",
       "\n",
       "    -glucose_100g  -fructose_100g  -lactose_100g  -maltose_100g  \\\n",
       "0             NaN             NaN            NaN            NaN   \n",
       "46            NaN             NaN            NaN            NaN   \n",
       "47            NaN             NaN            NaN            NaN   \n",
       "49            NaN             NaN            NaN            NaN   \n",
       "51            NaN             NaN            NaN            NaN   \n",
       "\n",
       "    -maltodextrins_100g  fiber_100g  proteins_100g  salt_100g  sodium_100g  \\\n",
       "0                   NaN         NaN            NaN        NaN          NaN   \n",
       "46                  NaN         NaN            NaN        NaN          NaN   \n",
       "47                  NaN         NaN            NaN        NaN          NaN   \n",
       "49                  NaN         NaN            NaN        NaN          NaN   \n",
       "51                  NaN         NaN            NaN        NaN          NaN   \n",
       "\n",
       "    fruits-vegetables-nuts_100g  nutrition-score-fr_100g  \\\n",
       "0                           NaN                      NaN   \n",
       "46                          NaN                      NaN   \n",
       "47                          NaN                      NaN   \n",
       "49                          NaN                      NaN   \n",
       "51                          NaN                      NaN   \n",
       "\n",
       "    nutrition-score-uk_100g  Missing_100g  \n",
       "0                       NaN             9  \n",
       "46                      NaN             9  \n",
       "47                      NaN             9  \n",
       "49                      NaN             9  \n",
       "51                      NaN             9  "
      ]
     },
     "execution_count": 22,
     "metadata": {},
     "output_type": "execute_result"
    }
   ],
   "source": [
    "nutriscore_table.head()"
   ]
  },
  {
   "cell_type": "code",
   "execution_count": 23,
   "metadata": {},
   "outputs": [],
   "source": [
    "nutriscore_table = nutriscore_table.loc[nutriscore_table['Missing_100g'] < 9]"
   ]
  },
  {
   "cell_type": "code",
   "execution_count": 24,
   "metadata": {},
   "outputs": [
    {
     "data": {
      "text/plain": [
       "(97036, 26)"
      ]
     },
     "execution_count": 24,
     "metadata": {},
     "output_type": "execute_result"
    }
   ],
   "source": [
    "nutriscore_table.shape"
   ]
  },
  {
   "cell_type": "code",
   "execution_count": 25,
   "metadata": {},
   "outputs": [
    {
     "data": {
      "text/html": [
       "<div>\n",
       "<style scoped>\n",
       "    .dataframe tbody tr th:only-of-type {\n",
       "        vertical-align: middle;\n",
       "    }\n",
       "\n",
       "    .dataframe tbody tr th {\n",
       "        vertical-align: top;\n",
       "    }\n",
       "\n",
       "    .dataframe thead th {\n",
       "        text-align: right;\n",
       "    }\n",
       "</style>\n",
       "<table border=\"1\" class=\"dataframe\">\n",
       "  <thead>\n",
       "    <tr style=\"text-align: right;\">\n",
       "      <th></th>\n",
       "      <th>product_name</th>\n",
       "      <th>generic_name</th>\n",
       "      <th>brands</th>\n",
       "      <th>categories</th>\n",
       "      <th>countries</th>\n",
       "      <th>nutrition_grade_fr</th>\n",
       "      <th>energy_100g</th>\n",
       "      <th>energy-from-fat_100g</th>\n",
       "      <th>fat_100g</th>\n",
       "      <th>saturated-fat_100g</th>\n",
       "      <th>carbohydrates_100g</th>\n",
       "      <th>sugars_100g</th>\n",
       "      <th>-sucrose_100g</th>\n",
       "      <th>-glucose_100g</th>\n",
       "      <th>-fructose_100g</th>\n",
       "      <th>-lactose_100g</th>\n",
       "      <th>-maltose_100g</th>\n",
       "      <th>-maltodextrins_100g</th>\n",
       "      <th>fiber_100g</th>\n",
       "      <th>proteins_100g</th>\n",
       "      <th>salt_100g</th>\n",
       "      <th>sodium_100g</th>\n",
       "      <th>fruits-vegetables-nuts_100g</th>\n",
       "      <th>nutrition-score-fr_100g</th>\n",
       "      <th>nutrition-score-uk_100g</th>\n",
       "      <th>Missing_100g</th>\n",
       "    </tr>\n",
       "  </thead>\n",
       "  <tbody>\n",
       "    <tr>\n",
       "      <th>140</th>\n",
       "      <td>Pack de 2 Twix</td>\n",
       "      <td>NaN</td>\n",
       "      <td>Twix, Lundberg</td>\n",
       "      <td>NaN</td>\n",
       "      <td>France, US</td>\n",
       "      <td>NaN</td>\n",
       "      <td>1481.0</td>\n",
       "      <td>NaN</td>\n",
       "      <td>4.17</td>\n",
       "      <td>NaN</td>\n",
       "      <td>77.08</td>\n",
       "      <td>NaN</td>\n",
       "      <td>NaN</td>\n",
       "      <td>NaN</td>\n",
       "      <td>NaN</td>\n",
       "      <td>NaN</td>\n",
       "      <td>NaN</td>\n",
       "      <td>NaN</td>\n",
       "      <td>6.2</td>\n",
       "      <td>6.25</td>\n",
       "      <td>NaN</td>\n",
       "      <td>NaN</td>\n",
       "      <td>NaN</td>\n",
       "      <td>NaN</td>\n",
       "      <td>NaN</td>\n",
       "      <td>5</td>\n",
       "    </tr>\n",
       "    <tr>\n",
       "      <th>185</th>\n",
       "      <td>Root Beer</td>\n",
       "      <td>NaN</td>\n",
       "      <td>A&amp;W</td>\n",
       "      <td>Boissons,Boissons gazeuses,Sodas,Boissons sucr...</td>\n",
       "      <td>France</td>\n",
       "      <td>e</td>\n",
       "      <td>215.0</td>\n",
       "      <td>NaN</td>\n",
       "      <td>0.00</td>\n",
       "      <td>0.0</td>\n",
       "      <td>14.20</td>\n",
       "      <td>13.6</td>\n",
       "      <td>NaN</td>\n",
       "      <td>NaN</td>\n",
       "      <td>NaN</td>\n",
       "      <td>NaN</td>\n",
       "      <td>NaN</td>\n",
       "      <td>NaN</td>\n",
       "      <td>0.0</td>\n",
       "      <td>0.00</td>\n",
       "      <td>0.0616</td>\n",
       "      <td>0.024200</td>\n",
       "      <td>NaN</td>\n",
       "      <td>18.0</td>\n",
       "      <td>3.0</td>\n",
       "      <td>1</td>\n",
       "    </tr>\n",
       "    <tr>\n",
       "      <th>189</th>\n",
       "      <td>Gotta-have grape, seriously strawberry flavor</td>\n",
       "      <td>Bonbons acidulés Raisin Fraise</td>\n",
       "      <td>Nerds</td>\n",
       "      <td>Snacks sucrés,Confiseries,Bonbons</td>\n",
       "      <td>France</td>\n",
       "      <td>d</td>\n",
       "      <td>1667.0</td>\n",
       "      <td>NaN</td>\n",
       "      <td>0.00</td>\n",
       "      <td>0.0</td>\n",
       "      <td>93.30</td>\n",
       "      <td>93.3</td>\n",
       "      <td>NaN</td>\n",
       "      <td>NaN</td>\n",
       "      <td>NaN</td>\n",
       "      <td>NaN</td>\n",
       "      <td>NaN</td>\n",
       "      <td>NaN</td>\n",
       "      <td>NaN</td>\n",
       "      <td>0.00</td>\n",
       "      <td>0.0000</td>\n",
       "      <td>0.000000</td>\n",
       "      <td>NaN</td>\n",
       "      <td>14.0</td>\n",
       "      <td>14.0</td>\n",
       "      <td>2</td>\n",
       "    </tr>\n",
       "    <tr>\n",
       "      <th>190</th>\n",
       "      <td>Thé noir aromatisé violette et fleurs</td>\n",
       "      <td>NaN</td>\n",
       "      <td>Alice Délice</td>\n",
       "      <td>en:beverages</td>\n",
       "      <td>France</td>\n",
       "      <td>c</td>\n",
       "      <td>17.0</td>\n",
       "      <td>NaN</td>\n",
       "      <td>0.10</td>\n",
       "      <td>0.1</td>\n",
       "      <td>0.10</td>\n",
       "      <td>0.1</td>\n",
       "      <td>NaN</td>\n",
       "      <td>NaN</td>\n",
       "      <td>NaN</td>\n",
       "      <td>NaN</td>\n",
       "      <td>NaN</td>\n",
       "      <td>NaN</td>\n",
       "      <td>NaN</td>\n",
       "      <td>0.10</td>\n",
       "      <td>0.0010</td>\n",
       "      <td>0.000394</td>\n",
       "      <td>NaN</td>\n",
       "      <td>2.0</td>\n",
       "      <td>0.0</td>\n",
       "      <td>2</td>\n",
       "    </tr>\n",
       "    <tr>\n",
       "      <th>193</th>\n",
       "      <td>Preparation mug cake chocolat-caramel au beurr...</td>\n",
       "      <td>NaN</td>\n",
       "      <td>Alice Délice</td>\n",
       "      <td>NaN</td>\n",
       "      <td>France</td>\n",
       "      <td>e</td>\n",
       "      <td>1632.0</td>\n",
       "      <td>NaN</td>\n",
       "      <td>7.00</td>\n",
       "      <td>4.5</td>\n",
       "      <td>70.00</td>\n",
       "      <td>42.0</td>\n",
       "      <td>NaN</td>\n",
       "      <td>NaN</td>\n",
       "      <td>NaN</td>\n",
       "      <td>NaN</td>\n",
       "      <td>NaN</td>\n",
       "      <td>NaN</td>\n",
       "      <td>0.0</td>\n",
       "      <td>7.00</td>\n",
       "      <td>0.9750</td>\n",
       "      <td>0.383858</td>\n",
       "      <td>NaN</td>\n",
       "      <td>21.0</td>\n",
       "      <td>21.0</td>\n",
       "      <td>1</td>\n",
       "    </tr>\n",
       "  </tbody>\n",
       "</table>\n",
       "</div>"
      ],
      "text/plain": [
       "                                          product_name  \\\n",
       "140                                     Pack de 2 Twix   \n",
       "185                                          Root Beer   \n",
       "189      Gotta-have grape, seriously strawberry flavor   \n",
       "190              Thé noir aromatisé violette et fleurs   \n",
       "193  Preparation mug cake chocolat-caramel au beurr...   \n",
       "\n",
       "                       generic_name          brands  \\\n",
       "140                             NaN  Twix, Lundberg   \n",
       "185                             NaN             A&W   \n",
       "189  Bonbons acidulés Raisin Fraise           Nerds   \n",
       "190                             NaN    Alice Délice   \n",
       "193                             NaN    Alice Délice   \n",
       "\n",
       "                                            categories   countries  \\\n",
       "140                                                NaN  France, US   \n",
       "185  Boissons,Boissons gazeuses,Sodas,Boissons sucr...      France   \n",
       "189                  Snacks sucrés,Confiseries,Bonbons      France   \n",
       "190                                       en:beverages      France   \n",
       "193                                                NaN      France   \n",
       "\n",
       "    nutrition_grade_fr  energy_100g  energy-from-fat_100g  fat_100g  \\\n",
       "140                NaN       1481.0                   NaN      4.17   \n",
       "185                  e        215.0                   NaN      0.00   \n",
       "189                  d       1667.0                   NaN      0.00   \n",
       "190                  c         17.0                   NaN      0.10   \n",
       "193                  e       1632.0                   NaN      7.00   \n",
       "\n",
       "     saturated-fat_100g  carbohydrates_100g  sugars_100g  -sucrose_100g  \\\n",
       "140                 NaN               77.08          NaN            NaN   \n",
       "185                 0.0               14.20         13.6            NaN   \n",
       "189                 0.0               93.30         93.3            NaN   \n",
       "190                 0.1                0.10          0.1            NaN   \n",
       "193                 4.5               70.00         42.0            NaN   \n",
       "\n",
       "     -glucose_100g  -fructose_100g  -lactose_100g  -maltose_100g  \\\n",
       "140            NaN             NaN            NaN            NaN   \n",
       "185            NaN             NaN            NaN            NaN   \n",
       "189            NaN             NaN            NaN            NaN   \n",
       "190            NaN             NaN            NaN            NaN   \n",
       "193            NaN             NaN            NaN            NaN   \n",
       "\n",
       "     -maltodextrins_100g  fiber_100g  proteins_100g  salt_100g  sodium_100g  \\\n",
       "140                  NaN         6.2           6.25        NaN          NaN   \n",
       "185                  NaN         0.0           0.00     0.0616     0.024200   \n",
       "189                  NaN         NaN           0.00     0.0000     0.000000   \n",
       "190                  NaN         NaN           0.10     0.0010     0.000394   \n",
       "193                  NaN         0.0           7.00     0.9750     0.383858   \n",
       "\n",
       "     fruits-vegetables-nuts_100g  nutrition-score-fr_100g  \\\n",
       "140                          NaN                      NaN   \n",
       "185                          NaN                     18.0   \n",
       "189                          NaN                     14.0   \n",
       "190                          NaN                      2.0   \n",
       "193                          NaN                     21.0   \n",
       "\n",
       "     nutrition-score-uk_100g  Missing_100g  \n",
       "140                      NaN             5  \n",
       "185                      3.0             1  \n",
       "189                     14.0             2  \n",
       "190                      0.0             2  \n",
       "193                     21.0             1  "
      ]
     },
     "execution_count": 25,
     "metadata": {},
     "output_type": "execute_result"
    }
   ],
   "source": [
    "nutriscore_table.head()"
   ]
  },
  {
   "cell_type": "markdown",
   "metadata": {},
   "source": [
    "## Vérification si les colonnes sont vides et si oui, suppression"
   ]
  },
  {
   "cell_type": "code",
   "execution_count": 26,
   "metadata": {},
   "outputs": [
    {
     "data": {
      "text/plain": [
       "(97036, 26)"
      ]
     },
     "execution_count": 26,
     "metadata": {},
     "output_type": "execute_result"
    }
   ],
   "source": [
    "nutriscore_table.dropna(how='all', axis=1, inplace=True)\n",
    "nutriscore_table.shape"
   ]
  },
  {
   "cell_type": "markdown",
   "metadata": {},
   "source": [
    "Pas de colonne entièrement vide"
   ]
  },
  {
   "cell_type": "markdown",
   "metadata": {},
   "source": [
    "## Traitement des doublons"
   ]
  },
  {
   "cell_type": "code",
   "execution_count": 27,
   "metadata": {},
   "outputs": [
    {
     "name": "stdout",
     "output_type": "stream",
     "text": [
      "False    96863\n",
      "True       173\n",
      "dtype: int64\n"
     ]
    }
   ],
   "source": [
    "print(nutriscore_table.duplicated().value_counts())"
   ]
  },
  {
   "cell_type": "code",
   "execution_count": 28,
   "metadata": {},
   "outputs": [
    {
     "data": {
      "text/html": [
       "<div>\n",
       "<style scoped>\n",
       "    .dataframe tbody tr th:only-of-type {\n",
       "        vertical-align: middle;\n",
       "    }\n",
       "\n",
       "    .dataframe tbody tr th {\n",
       "        vertical-align: top;\n",
       "    }\n",
       "\n",
       "    .dataframe thead th {\n",
       "        text-align: right;\n",
       "    }\n",
       "</style>\n",
       "<table border=\"1\" class=\"dataframe\">\n",
       "  <thead>\n",
       "    <tr style=\"text-align: right;\">\n",
       "      <th></th>\n",
       "      <th>product_name</th>\n",
       "      <th>generic_name</th>\n",
       "      <th>brands</th>\n",
       "      <th>categories</th>\n",
       "      <th>countries</th>\n",
       "      <th>nutrition_grade_fr</th>\n",
       "      <th>energy_100g</th>\n",
       "      <th>energy-from-fat_100g</th>\n",
       "      <th>fat_100g</th>\n",
       "      <th>saturated-fat_100g</th>\n",
       "      <th>carbohydrates_100g</th>\n",
       "      <th>sugars_100g</th>\n",
       "      <th>-sucrose_100g</th>\n",
       "      <th>-glucose_100g</th>\n",
       "      <th>-fructose_100g</th>\n",
       "      <th>-lactose_100g</th>\n",
       "      <th>-maltose_100g</th>\n",
       "      <th>-maltodextrins_100g</th>\n",
       "      <th>fiber_100g</th>\n",
       "      <th>proteins_100g</th>\n",
       "      <th>salt_100g</th>\n",
       "      <th>sodium_100g</th>\n",
       "      <th>fruits-vegetables-nuts_100g</th>\n",
       "      <th>nutrition-score-fr_100g</th>\n",
       "      <th>nutrition-score-uk_100g</th>\n",
       "      <th>Missing_100g</th>\n",
       "    </tr>\n",
       "  </thead>\n",
       "  <tbody>\n",
       "    <tr>\n",
       "      <th>19719</th>\n",
       "      <td>Crème de marrons de l'Ardèche</td>\n",
       "      <td>Crème de marrons</td>\n",
       "      <td>Clément Faugier</td>\n",
       "      <td>Aliments et boissons à base de végétaux,Alimen...</td>\n",
       "      <td>France</td>\n",
       "      <td>d</td>\n",
       "      <td>1147.0</td>\n",
       "      <td>NaN</td>\n",
       "      <td>0.8</td>\n",
       "      <td>0.2</td>\n",
       "      <td>63.6</td>\n",
       "      <td>50.2</td>\n",
       "      <td>NaN</td>\n",
       "      <td>NaN</td>\n",
       "      <td>NaN</td>\n",
       "      <td>NaN</td>\n",
       "      <td>NaN</td>\n",
       "      <td>NaN</td>\n",
       "      <td>1.9</td>\n",
       "      <td>1.3</td>\n",
       "      <td>0.01</td>\n",
       "      <td>0.003937</td>\n",
       "      <td>NaN</td>\n",
       "      <td>11.0</td>\n",
       "      <td>11.0</td>\n",
       "      <td>1</td>\n",
       "    </tr>\n",
       "    <tr>\n",
       "      <th>19721</th>\n",
       "      <td>Crème de marrons de l'Ardèche</td>\n",
       "      <td>Crème de marrons</td>\n",
       "      <td>Clément Faugier</td>\n",
       "      <td>Aliments et boissons à base de végétaux,Alimen...</td>\n",
       "      <td>France</td>\n",
       "      <td>d</td>\n",
       "      <td>1147.0</td>\n",
       "      <td>NaN</td>\n",
       "      <td>0.8</td>\n",
       "      <td>0.2</td>\n",
       "      <td>63.6</td>\n",
       "      <td>50.2</td>\n",
       "      <td>NaN</td>\n",
       "      <td>NaN</td>\n",
       "      <td>NaN</td>\n",
       "      <td>NaN</td>\n",
       "      <td>NaN</td>\n",
       "      <td>NaN</td>\n",
       "      <td>1.9</td>\n",
       "      <td>1.3</td>\n",
       "      <td>0.01</td>\n",
       "      <td>0.003937</td>\n",
       "      <td>NaN</td>\n",
       "      <td>11.0</td>\n",
       "      <td>11.0</td>\n",
       "      <td>1</td>\n",
       "    </tr>\n",
       "    <tr>\n",
       "      <th>28678</th>\n",
       "      <td>Double Chocolate Mini Bites</td>\n",
       "      <td>NaN</td>\n",
       "      <td>M&amp;S</td>\n",
       "      <td>NaN</td>\n",
       "      <td>France,United Kingdom</td>\n",
       "      <td>e</td>\n",
       "      <td>1962.0</td>\n",
       "      <td>NaN</td>\n",
       "      <td>NaN</td>\n",
       "      <td>15.1</td>\n",
       "      <td>NaN</td>\n",
       "      <td>46.0</td>\n",
       "      <td>NaN</td>\n",
       "      <td>NaN</td>\n",
       "      <td>NaN</td>\n",
       "      <td>NaN</td>\n",
       "      <td>NaN</td>\n",
       "      <td>NaN</td>\n",
       "      <td>2.1</td>\n",
       "      <td>5.8</td>\n",
       "      <td>0.23</td>\n",
       "      <td>0.090551</td>\n",
       "      <td>NaN</td>\n",
       "      <td>24.0</td>\n",
       "      <td>24.0</td>\n",
       "      <td>3</td>\n",
       "    </tr>\n",
       "    <tr>\n",
       "      <th>102742</th>\n",
       "      <td>Double Chocolate Mini Bites</td>\n",
       "      <td>NaN</td>\n",
       "      <td>M&amp;S</td>\n",
       "      <td>NaN</td>\n",
       "      <td>France,United Kingdom</td>\n",
       "      <td>e</td>\n",
       "      <td>1962.0</td>\n",
       "      <td>NaN</td>\n",
       "      <td>NaN</td>\n",
       "      <td>15.1</td>\n",
       "      <td>NaN</td>\n",
       "      <td>46.0</td>\n",
       "      <td>NaN</td>\n",
       "      <td>NaN</td>\n",
       "      <td>NaN</td>\n",
       "      <td>NaN</td>\n",
       "      <td>NaN</td>\n",
       "      <td>NaN</td>\n",
       "      <td>2.1</td>\n",
       "      <td>5.8</td>\n",
       "      <td>0.23</td>\n",
       "      <td>0.090551</td>\n",
       "      <td>NaN</td>\n",
       "      <td>24.0</td>\n",
       "      <td>24.0</td>\n",
       "      <td>3</td>\n",
       "    </tr>\n",
       "    <tr>\n",
       "      <th>114790</th>\n",
       "      <td>Les milanaises</td>\n",
       "      <td>NaN</td>\n",
       "      <td>Le Gaulois</td>\n",
       "      <td>NaN</td>\n",
       "      <td>France</td>\n",
       "      <td>a</td>\n",
       "      <td>506.0</td>\n",
       "      <td>NaN</td>\n",
       "      <td>0.8</td>\n",
       "      <td>0.0</td>\n",
       "      <td>5.8</td>\n",
       "      <td>1.9</td>\n",
       "      <td>NaN</td>\n",
       "      <td>NaN</td>\n",
       "      <td>NaN</td>\n",
       "      <td>NaN</td>\n",
       "      <td>NaN</td>\n",
       "      <td>NaN</td>\n",
       "      <td>0.7</td>\n",
       "      <td>22.0</td>\n",
       "      <td>0.70</td>\n",
       "      <td>0.275591</td>\n",
       "      <td>NaN</td>\n",
       "      <td>-1.0</td>\n",
       "      <td>-1.0</td>\n",
       "      <td>1</td>\n",
       "    </tr>\n",
       "    <tr>\n",
       "      <th>115270</th>\n",
       "      <td>Chateaubriand</td>\n",
       "      <td>NaN</td>\n",
       "      <td>Charal</td>\n",
       "      <td>NaN</td>\n",
       "      <td>France</td>\n",
       "      <td>a</td>\n",
       "      <td>473.0</td>\n",
       "      <td>NaN</td>\n",
       "      <td>NaN</td>\n",
       "      <td>0.8</td>\n",
       "      <td>NaN</td>\n",
       "      <td>0.0</td>\n",
       "      <td>NaN</td>\n",
       "      <td>NaN</td>\n",
       "      <td>NaN</td>\n",
       "      <td>NaN</td>\n",
       "      <td>NaN</td>\n",
       "      <td>NaN</td>\n",
       "      <td>0.0</td>\n",
       "      <td>23.0</td>\n",
       "      <td>0.17</td>\n",
       "      <td>0.066929</td>\n",
       "      <td>NaN</td>\n",
       "      <td>-4.0</td>\n",
       "      <td>-4.0</td>\n",
       "      <td>3</td>\n",
       "    </tr>\n",
       "    <tr>\n",
       "      <th>115271</th>\n",
       "      <td>Chateaubriand</td>\n",
       "      <td>NaN</td>\n",
       "      <td>Charal</td>\n",
       "      <td>NaN</td>\n",
       "      <td>France</td>\n",
       "      <td>a</td>\n",
       "      <td>473.0</td>\n",
       "      <td>NaN</td>\n",
       "      <td>NaN</td>\n",
       "      <td>0.8</td>\n",
       "      <td>NaN</td>\n",
       "      <td>0.0</td>\n",
       "      <td>NaN</td>\n",
       "      <td>NaN</td>\n",
       "      <td>NaN</td>\n",
       "      <td>NaN</td>\n",
       "      <td>NaN</td>\n",
       "      <td>NaN</td>\n",
       "      <td>0.0</td>\n",
       "      <td>23.0</td>\n",
       "      <td>0.17</td>\n",
       "      <td>0.066929</td>\n",
       "      <td>NaN</td>\n",
       "      <td>-4.0</td>\n",
       "      <td>-4.0</td>\n",
       "      <td>3</td>\n",
       "    </tr>\n",
       "    <tr>\n",
       "      <th>115613</th>\n",
       "      <td>Saint Albray</td>\n",
       "      <td>NaN</td>\n",
       "      <td>Saint Albray</td>\n",
       "      <td>NaN</td>\n",
       "      <td>France</td>\n",
       "      <td>e</td>\n",
       "      <td>1331.0</td>\n",
       "      <td>NaN</td>\n",
       "      <td>26.0</td>\n",
       "      <td>18.0</td>\n",
       "      <td>0.5</td>\n",
       "      <td>0.5</td>\n",
       "      <td>NaN</td>\n",
       "      <td>NaN</td>\n",
       "      <td>NaN</td>\n",
       "      <td>NaN</td>\n",
       "      <td>NaN</td>\n",
       "      <td>NaN</td>\n",
       "      <td>NaN</td>\n",
       "      <td>21.0</td>\n",
       "      <td>1.50</td>\n",
       "      <td>0.590551</td>\n",
       "      <td>NaN</td>\n",
       "      <td>19.0</td>\n",
       "      <td>19.0</td>\n",
       "      <td>2</td>\n",
       "    </tr>\n",
       "    <tr>\n",
       "      <th>115614</th>\n",
       "      <td>Saint Albray</td>\n",
       "      <td>NaN</td>\n",
       "      <td>Saint Albray</td>\n",
       "      <td>NaN</td>\n",
       "      <td>France</td>\n",
       "      <td>e</td>\n",
       "      <td>1331.0</td>\n",
       "      <td>NaN</td>\n",
       "      <td>26.0</td>\n",
       "      <td>18.0</td>\n",
       "      <td>0.5</td>\n",
       "      <td>0.5</td>\n",
       "      <td>NaN</td>\n",
       "      <td>NaN</td>\n",
       "      <td>NaN</td>\n",
       "      <td>NaN</td>\n",
       "      <td>NaN</td>\n",
       "      <td>NaN</td>\n",
       "      <td>NaN</td>\n",
       "      <td>21.0</td>\n",
       "      <td>1.50</td>\n",
       "      <td>0.590551</td>\n",
       "      <td>NaN</td>\n",
       "      <td>19.0</td>\n",
       "      <td>19.0</td>\n",
       "      <td>2</td>\n",
       "    </tr>\n",
       "    <tr>\n",
       "      <th>176453</th>\n",
       "      <td>Lentilles vertes</td>\n",
       "      <td>NaN</td>\n",
       "      <td>Golden Sun</td>\n",
       "      <td>Lentilles vertes</td>\n",
       "      <td>France</td>\n",
       "      <td>a</td>\n",
       "      <td>1292.0</td>\n",
       "      <td>NaN</td>\n",
       "      <td>1.1</td>\n",
       "      <td>0.2</td>\n",
       "      <td>37.0</td>\n",
       "      <td>2.0</td>\n",
       "      <td>NaN</td>\n",
       "      <td>NaN</td>\n",
       "      <td>NaN</td>\n",
       "      <td>NaN</td>\n",
       "      <td>NaN</td>\n",
       "      <td>NaN</td>\n",
       "      <td>NaN</td>\n",
       "      <td>25.8</td>\n",
       "      <td>0.02</td>\n",
       "      <td>0.007874</td>\n",
       "      <td>NaN</td>\n",
       "      <td>-2.0</td>\n",
       "      <td>-2.0</td>\n",
       "      <td>2</td>\n",
       "    </tr>\n",
       "  </tbody>\n",
       "</table>\n",
       "</div>"
      ],
      "text/plain": [
       "                         product_name      generic_name           brands  \\\n",
       "19719   Crème de marrons de l'Ardèche  Crème de marrons  Clément Faugier   \n",
       "19721   Crème de marrons de l'Ardèche  Crème de marrons  Clément Faugier   \n",
       "28678     Double Chocolate Mini Bites               NaN              M&S   \n",
       "102742    Double Chocolate Mini Bites               NaN              M&S   \n",
       "114790                 Les milanaises               NaN       Le Gaulois   \n",
       "115270                  Chateaubriand               NaN           Charal   \n",
       "115271                  Chateaubriand               NaN           Charal   \n",
       "115613                   Saint Albray               NaN     Saint Albray   \n",
       "115614                   Saint Albray               NaN     Saint Albray   \n",
       "176453               Lentilles vertes               NaN       Golden Sun   \n",
       "\n",
       "                                               categories  \\\n",
       "19719   Aliments et boissons à base de végétaux,Alimen...   \n",
       "19721   Aliments et boissons à base de végétaux,Alimen...   \n",
       "28678                                                 NaN   \n",
       "102742                                                NaN   \n",
       "114790                                                NaN   \n",
       "115270                                                NaN   \n",
       "115271                                                NaN   \n",
       "115613                                                NaN   \n",
       "115614                                                NaN   \n",
       "176453                                   Lentilles vertes   \n",
       "\n",
       "                    countries nutrition_grade_fr  energy_100g  \\\n",
       "19719                  France                  d       1147.0   \n",
       "19721                  France                  d       1147.0   \n",
       "28678   France,United Kingdom                  e       1962.0   \n",
       "102742  France,United Kingdom                  e       1962.0   \n",
       "114790                 France                  a        506.0   \n",
       "115270                 France                  a        473.0   \n",
       "115271                 France                  a        473.0   \n",
       "115613                 France                  e       1331.0   \n",
       "115614                 France                  e       1331.0   \n",
       "176453                 France                  a       1292.0   \n",
       "\n",
       "        energy-from-fat_100g  fat_100g  saturated-fat_100g  \\\n",
       "19719                    NaN       0.8                 0.2   \n",
       "19721                    NaN       0.8                 0.2   \n",
       "28678                    NaN       NaN                15.1   \n",
       "102742                   NaN       NaN                15.1   \n",
       "114790                   NaN       0.8                 0.0   \n",
       "115270                   NaN       NaN                 0.8   \n",
       "115271                   NaN       NaN                 0.8   \n",
       "115613                   NaN      26.0                18.0   \n",
       "115614                   NaN      26.0                18.0   \n",
       "176453                   NaN       1.1                 0.2   \n",
       "\n",
       "        carbohydrates_100g  sugars_100g  -sucrose_100g  -glucose_100g  \\\n",
       "19719                 63.6         50.2            NaN            NaN   \n",
       "19721                 63.6         50.2            NaN            NaN   \n",
       "28678                  NaN         46.0            NaN            NaN   \n",
       "102742                 NaN         46.0            NaN            NaN   \n",
       "114790                 5.8          1.9            NaN            NaN   \n",
       "115270                 NaN          0.0            NaN            NaN   \n",
       "115271                 NaN          0.0            NaN            NaN   \n",
       "115613                 0.5          0.5            NaN            NaN   \n",
       "115614                 0.5          0.5            NaN            NaN   \n",
       "176453                37.0          2.0            NaN            NaN   \n",
       "\n",
       "        -fructose_100g  -lactose_100g  -maltose_100g  -maltodextrins_100g  \\\n",
       "19719              NaN            NaN            NaN                  NaN   \n",
       "19721              NaN            NaN            NaN                  NaN   \n",
       "28678              NaN            NaN            NaN                  NaN   \n",
       "102742             NaN            NaN            NaN                  NaN   \n",
       "114790             NaN            NaN            NaN                  NaN   \n",
       "115270             NaN            NaN            NaN                  NaN   \n",
       "115271             NaN            NaN            NaN                  NaN   \n",
       "115613             NaN            NaN            NaN                  NaN   \n",
       "115614             NaN            NaN            NaN                  NaN   \n",
       "176453             NaN            NaN            NaN                  NaN   \n",
       "\n",
       "        fiber_100g  proteins_100g  salt_100g  sodium_100g  \\\n",
       "19719          1.9            1.3       0.01     0.003937   \n",
       "19721          1.9            1.3       0.01     0.003937   \n",
       "28678          2.1            5.8       0.23     0.090551   \n",
       "102742         2.1            5.8       0.23     0.090551   \n",
       "114790         0.7           22.0       0.70     0.275591   \n",
       "115270         0.0           23.0       0.17     0.066929   \n",
       "115271         0.0           23.0       0.17     0.066929   \n",
       "115613         NaN           21.0       1.50     0.590551   \n",
       "115614         NaN           21.0       1.50     0.590551   \n",
       "176453         NaN           25.8       0.02     0.007874   \n",
       "\n",
       "        fruits-vegetables-nuts_100g  nutrition-score-fr_100g  \\\n",
       "19719                           NaN                     11.0   \n",
       "19721                           NaN                     11.0   \n",
       "28678                           NaN                     24.0   \n",
       "102742                          NaN                     24.0   \n",
       "114790                          NaN                     -1.0   \n",
       "115270                          NaN                     -4.0   \n",
       "115271                          NaN                     -4.0   \n",
       "115613                          NaN                     19.0   \n",
       "115614                          NaN                     19.0   \n",
       "176453                          NaN                     -2.0   \n",
       "\n",
       "        nutrition-score-uk_100g  Missing_100g  \n",
       "19719                      11.0             1  \n",
       "19721                      11.0             1  \n",
       "28678                      24.0             3  \n",
       "102742                     24.0             3  \n",
       "114790                     -1.0             1  \n",
       "115270                     -4.0             3  \n",
       "115271                     -4.0             3  \n",
       "115613                     19.0             2  \n",
       "115614                     19.0             2  \n",
       "176453                     -2.0             2  "
      ]
     },
     "execution_count": 28,
     "metadata": {},
     "output_type": "execute_result"
    }
   ],
   "source": [
    "duplicated_rows = nutriscore_table[nutriscore_table.duplicated(keep=False)]\n",
    "duplicated_rows.head(10)"
   ]
  },
  {
   "cell_type": "code",
   "execution_count": 29,
   "metadata": {},
   "outputs": [],
   "source": [
    "nutriscore_table=nutriscore_table.drop_duplicates()"
   ]
  },
  {
   "cell_type": "code",
   "execution_count": 30,
   "metadata": {},
   "outputs": [
    {
     "data": {
      "text/plain": [
       "(96863, 26)"
      ]
     },
     "execution_count": 30,
     "metadata": {},
     "output_type": "execute_result"
    }
   ],
   "source": [
    "nutriscore_table.shape"
   ]
  },
  {
   "cell_type": "markdown",
   "metadata": {},
   "source": [
    "## Nombre de valeurs manquantes par colonne restante"
   ]
  },
  {
   "cell_type": "code",
   "execution_count": 43,
   "metadata": {},
   "outputs": [
    {
     "name": "stdout",
     "output_type": "stream",
     "text": [
      "product_name                     410\n",
      "generic_name                   61325\n",
      "brands                           634\n",
      "categories                     34352\n",
      "countries                          0\n",
      "nutrition_grade_fr              4046\n",
      "energy_100g                      667\n",
      "energy-from-fat_100g           96826\n",
      "fat_100g                       16116\n",
      "saturated-fat_100g              2513\n",
      "carbohydrates_100g             16524\n",
      "sugars_100g                     2407\n",
      "-sucrose_100g                  96850\n",
      "-glucose_100g                  96856\n",
      "-fructose_100g                 96836\n",
      "-lactose_100g                  96725\n",
      "-maltose_100g                  96858\n",
      "-maltodextrins_100g            96852\n",
      "fiber_100g                     32561\n",
      "proteins_100g                    831\n",
      "salt_100g                       2354\n",
      "sodium_100g                     2358\n",
      "fruits-vegetables-nuts_100g    93731\n",
      "nutrition-score-fr_100g         4046\n",
      "nutrition-score-uk_100g         4046\n",
      "Missing_100g                       0\n",
      "dtype: int64\n"
     ]
    }
   ],
   "source": [
    "print(nutriscore_table.isnull().sum())"
   ]
  },
  {
   "cell_type": "markdown",
   "metadata": {},
   "source": [
    "## Traitement des valeurs manquantes - name/generic name"
   ]
  },
  {
   "cell_type": "code",
   "execution_count": 31,
   "metadata": {},
   "outputs": [],
   "source": [
    "nutriscore_test = nutriscore_table.copy()"
   ]
  },
  {
   "cell_type": "code",
   "execution_count": 32,
   "metadata": {},
   "outputs": [],
   "source": [
    "nutriscore_test['product_name'] = nutriscore_test['product_name'].apply(\n",
    "    lambda x: nutriscore_test['generic_name'] if x=='NaN' else x\n",
    ")"
   ]
  },
  {
   "cell_type": "code",
   "execution_count": 33,
   "metadata": {},
   "outputs": [
    {
     "data": {
      "text/plain": [
       "(96863, 26)"
      ]
     },
     "execution_count": 33,
     "metadata": {},
     "output_type": "execute_result"
    }
   ],
   "source": [
    "nutriscore_test.shape"
   ]
  },
  {
   "cell_type": "code",
   "execution_count": 34,
   "metadata": {},
   "outputs": [],
   "source": [
    "nutriscore_test = nutriscore_test[nutriscore_test['product_name'].notna()]"
   ]
  },
  {
   "cell_type": "code",
   "execution_count": 35,
   "metadata": {},
   "outputs": [
    {
     "data": {
      "text/plain": [
       "(96453, 26)"
      ]
     },
     "execution_count": 35,
     "metadata": {},
     "output_type": "execute_result"
    }
   ],
   "source": [
    "nutriscore_test.shape"
   ]
  },
  {
   "cell_type": "code",
   "execution_count": 36,
   "metadata": {},
   "outputs": [],
   "source": [
    "nutriscore_table = nutriscore_test.copy()"
   ]
  },
  {
   "cell_type": "markdown",
   "metadata": {},
   "source": [
    "## Distribution des valeurs dans les colonnes values_100g"
   ]
  },
  {
   "cell_type": "code",
   "execution_count": 37,
   "metadata": {},
   "outputs": [
    {
     "name": "stdout",
     "output_type": "stream",
     "text": [
      "['fat_100g', 'saturated-fat_100g', 'carbohydrates_100g', 'sugars_100g', 'fiber_100g', 'proteins_100g', 'salt_100g', 'sodium_100g', 'fruits-vegetables-nuts_100g']\n"
     ]
    }
   ],
   "source": [
    "print(values_100g)"
   ]
  },
  {
   "cell_type": "code",
   "execution_count": 38,
   "metadata": {},
   "outputs": [
    {
     "data": {
      "image/png": "[encoded data removed]",
      "text/plain": [
       "<Figure size 1440x432 with 1 Axes>"
      ]
     },
     "metadata": {
      "needs_background": "light"
     },
     "output_type": "display_data"
    }
   ],
   "source": [
    "plt.figure(figsize=(20,6))\n",
    "plt.ylim(-10,200)\n",
    "plt.title(\"Distribution des valeurs\")\n",
    "ax = sns.boxenplot(data=nutriscore_table[values_100g])"
   ]
  },
  {
   "cell_type": "markdown",
   "metadata": {},
   "source": [
    "Toutes les valeurs supérieures à 100g vont devoir être modifiées"
   ]
  },
  {
   "cell_type": "code",
   "execution_count": 39,
   "metadata": {},
   "outputs": [
    {
     "name": "stdout",
     "output_type": "stream",
     "text": [
      "fat_100g                       16091\n",
      "saturated-fat_100g              2493\n",
      "carbohydrates_100g             16499\n",
      "sugars_100g                     2391\n",
      "fiber_100g                     32380\n",
      "proteins_100g                    826\n",
      "salt_100g                       2343\n",
      "sodium_100g                     2347\n",
      "fruits-vegetables-nuts_100g    93323\n",
      "dtype: int64\n"
     ]
    }
   ],
   "source": [
    "print(nutriscore_table[values_100g].isnull().sum())"
   ]
  },
  {
   "cell_type": "code",
   "execution_count": 40,
   "metadata": {},
   "outputs": [],
   "source": [
    "nutriscore_test = nutriscore_table.copy()"
   ]
  },
  {
   "cell_type": "code",
   "execution_count": 41,
   "metadata": {},
   "outputs": [],
   "source": [
    "nutriscore_test = nutriscore_test.drop(nutriscore_test[nutriscore_test['fat_100g']>100].index)"
   ]
  },
  {
   "cell_type": "code",
   "execution_count": 42,
   "metadata": {},
   "outputs": [
    {
     "data": {
      "text/plain": [
       "(96452, 26)"
      ]
     },
     "execution_count": 42,
     "metadata": {},
     "output_type": "execute_result"
    }
   ],
   "source": [
    "nutriscore_test.shape"
   ]
  },
  {
   "cell_type": "markdown",
   "metadata": {},
   "source": [
    "### Selection des données de values_100g comprises entre 0 et 100"
   ]
  },
  {
   "cell_type": "code",
   "execution_count": 43,
   "metadata": {},
   "outputs": [
    {
     "data": {
      "text/plain": [
       "(96434, 26)"
      ]
     },
     "execution_count": 43,
     "metadata": {},
     "output_type": "execute_result"
    }
   ],
   "source": [
    "for element in values_100g:\n",
    "    nutriscore_test = nutriscore_test.drop(nutriscore_test[nutriscore_test[element]>100].index)\n",
    "nutriscore_test.shape"
   ]
  },
  {
   "cell_type": "code",
   "execution_count": 44,
   "metadata": {},
   "outputs": [
    {
     "data": {
      "text/plain": [
       "(96433, 26)"
      ]
     },
     "execution_count": 44,
     "metadata": {},
     "output_type": "execute_result"
    }
   ],
   "source": [
    "for element in values_100g:\n",
    "    nutriscore_test = nutriscore_test.drop(nutriscore_test[nutriscore_test[element]<0].index)\n",
    "nutriscore_test.shape"
   ]
  },
  {
   "cell_type": "code",
   "execution_count": 45,
   "metadata": {},
   "outputs": [
    {
     "data": {
      "image/png": "[encoded data removed]",
      "text/plain": [
       "<Figure size 1440x432 with 1 Axes>"
      ]
     },
     "metadata": {
      "needs_background": "light"
     },
     "output_type": "display_data"
    }
   ],
   "source": [
    "plt.figure(figsize=(20,6))\n",
    "plt.ylim(-10,200)\n",
    "plt.title(\"Distribution des valeurs\")\n",
    "ax = sns.boxenplot(data=nutriscore_test[values_100g])"
   ]
  },
  {
   "cell_type": "markdown",
   "metadata": {},
   "source": [
    "## Nutriscore"
   ]
  },
  {
   "cell_type": "code",
   "execution_count": 63,
   "metadata": {},
   "outputs": [],
   "source": [
    "nutriscore_table=nutriscore_test.copy()"
   ]
  },
  {
   "cell_type": "code",
   "execution_count": 64,
   "metadata": {},
   "outputs": [
    {
     "name": "stdout",
     "output_type": "stream",
     "text": [
      "4015\n"
     ]
    }
   ],
   "source": [
    "print(nutriscore_table['nutrition-score-fr_100g'].isnull().sum())"
   ]
  },
  {
   "cell_type": "code",
   "execution_count": 65,
   "metadata": {},
   "outputs": [
    {
     "data": {
      "image/png": "[encoded data removed]",
      "text/plain": [
       "<Figure size 432x288 with 1 Axes>"
      ]
     },
     "metadata": {
      "needs_background": "light"
     },
     "output_type": "display_data"
    }
   ],
   "source": [
    "plt.title(\"Distribution des valeurs du nutriscore\")\n",
    "ax = sns.boxenplot(x=nutriscore_table['nutrition-score-fr_100g'])"
   ]
  },
  {
   "cell_type": "code",
   "execution_count": null,
   "metadata": {},
   "outputs": [],
   "source": [
    "# Pour enregistrer une version temporaire de la base de données\n",
    "# j'ai choisi d'enlever les lignes où il n'y a pas de nutriscore"
   ]
  },
  {
   "cell_type": "code",
   "execution_count": 66,
   "metadata": {},
   "outputs": [
    {
     "data": {
      "text/plain": [
       "(96433, 26)"
      ]
     },
     "execution_count": 66,
     "metadata": {},
     "output_type": "execute_result"
    }
   ],
   "source": [
    "nutriscore_table.shape"
   ]
  },
  {
   "cell_type": "code",
   "execution_count": 69,
   "metadata": {},
   "outputs": [],
   "source": [
    "nutriscore_table = nutriscore_table[nutriscore_table['nutrition-score-fr_100g'].notna()]"
   ]
  },
  {
   "cell_type": "code",
   "execution_count": 70,
   "metadata": {},
   "outputs": [
    {
     "data": {
      "text/plain": [
       "(92418, 26)"
      ]
     },
     "execution_count": 70,
     "metadata": {},
     "output_type": "execute_result"
    }
   ],
   "source": [
    "nutriscore_table.shape"
   ]
  },
  {
   "cell_type": "markdown",
   "metadata": {},
   "source": [
    "# Enregistrement de la base de données nettoyée en csv (version temporaire)"
   ]
  },
  {
   "cell_type": "code",
   "execution_count": 71,
   "metadata": {},
   "outputs": [],
   "source": [
    "nutriscore_table.to_csv(\"intermediate.csv\")"
   ]
  },
  {
   "cell_type": "code",
   "execution_count": 72,
   "metadata": {},
   "outputs": [],
   "source": [
    "df = pd.read_csv(\"intermediate.csv\", sep=',', low_memory=False)"
   ]
  },
  {
   "cell_type": "code",
   "execution_count": 73,
   "metadata": {},
   "outputs": [
    {
     "data": {
      "text/html": [
       "<div>\n",
       "<style scoped>\n",
       "    .dataframe tbody tr th:only-of-type {\n",
       "        vertical-align: middle;\n",
       "    }\n",
       "\n",
       "    .dataframe tbody tr th {\n",
       "        vertical-align: top;\n",
       "    }\n",
       "\n",
       "    .dataframe thead th {\n",
       "        text-align: right;\n",
       "    }\n",
       "</style>\n",
       "<table border=\"1\" class=\"dataframe\">\n",
       "  <thead>\n",
       "    <tr style=\"text-align: right;\">\n",
       "      <th></th>\n",
       "      <th>Unnamed: 0</th>\n",
       "      <th>product_name</th>\n",
       "      <th>generic_name</th>\n",
       "      <th>brands</th>\n",
       "      <th>categories</th>\n",
       "      <th>countries</th>\n",
       "      <th>nutrition_grade_fr</th>\n",
       "      <th>energy_100g</th>\n",
       "      <th>energy-from-fat_100g</th>\n",
       "      <th>fat_100g</th>\n",
       "      <th>saturated-fat_100g</th>\n",
       "      <th>carbohydrates_100g</th>\n",
       "      <th>sugars_100g</th>\n",
       "      <th>-sucrose_100g</th>\n",
       "      <th>-glucose_100g</th>\n",
       "      <th>-fructose_100g</th>\n",
       "      <th>-lactose_100g</th>\n",
       "      <th>-maltose_100g</th>\n",
       "      <th>-maltodextrins_100g</th>\n",
       "      <th>fiber_100g</th>\n",
       "      <th>proteins_100g</th>\n",
       "      <th>salt_100g</th>\n",
       "      <th>sodium_100g</th>\n",
       "      <th>fruits-vegetables-nuts_100g</th>\n",
       "      <th>nutrition-score-fr_100g</th>\n",
       "      <th>nutrition-score-uk_100g</th>\n",
       "      <th>Missing_100g</th>\n",
       "    </tr>\n",
       "  </thead>\n",
       "  <tbody>\n",
       "    <tr>\n",
       "      <th>0</th>\n",
       "      <td>185</td>\n",
       "      <td>Root Beer</td>\n",
       "      <td>NaN</td>\n",
       "      <td>A&amp;W</td>\n",
       "      <td>Boissons,Boissons gazeuses,Sodas,Boissons sucr...</td>\n",
       "      <td>France</td>\n",
       "      <td>e</td>\n",
       "      <td>215.0</td>\n",
       "      <td>NaN</td>\n",
       "      <td>0.0</td>\n",
       "      <td>0.0</td>\n",
       "      <td>14.2</td>\n",
       "      <td>13.6</td>\n",
       "      <td>NaN</td>\n",
       "      <td>NaN</td>\n",
       "      <td>NaN</td>\n",
       "      <td>NaN</td>\n",
       "      <td>NaN</td>\n",
       "      <td>NaN</td>\n",
       "      <td>0.0</td>\n",
       "      <td>0.0</td>\n",
       "      <td>0.0616</td>\n",
       "      <td>0.024200</td>\n",
       "      <td>NaN</td>\n",
       "      <td>18.0</td>\n",
       "      <td>3.0</td>\n",
       "      <td>1</td>\n",
       "    </tr>\n",
       "    <tr>\n",
       "      <th>1</th>\n",
       "      <td>189</td>\n",
       "      <td>Gotta-have grape, seriously strawberry flavor</td>\n",
       "      <td>Bonbons acidulés Raisin Fraise</td>\n",
       "      <td>Nerds</td>\n",
       "      <td>Snacks sucrés,Confiseries,Bonbons</td>\n",
       "      <td>France</td>\n",
       "      <td>d</td>\n",
       "      <td>1667.0</td>\n",
       "      <td>NaN</td>\n",
       "      <td>0.0</td>\n",
       "      <td>0.0</td>\n",
       "      <td>93.3</td>\n",
       "      <td>93.3</td>\n",
       "      <td>NaN</td>\n",
       "      <td>NaN</td>\n",
       "      <td>NaN</td>\n",
       "      <td>NaN</td>\n",
       "      <td>NaN</td>\n",
       "      <td>NaN</td>\n",
       "      <td>NaN</td>\n",
       "      <td>0.0</td>\n",
       "      <td>0.0000</td>\n",
       "      <td>0.000000</td>\n",
       "      <td>NaN</td>\n",
       "      <td>14.0</td>\n",
       "      <td>14.0</td>\n",
       "      <td>2</td>\n",
       "    </tr>\n",
       "    <tr>\n",
       "      <th>2</th>\n",
       "      <td>190</td>\n",
       "      <td>Thé noir aromatisé violette et fleurs</td>\n",
       "      <td>NaN</td>\n",
       "      <td>Alice Délice</td>\n",
       "      <td>en:beverages</td>\n",
       "      <td>France</td>\n",
       "      <td>c</td>\n",
       "      <td>17.0</td>\n",
       "      <td>NaN</td>\n",
       "      <td>0.1</td>\n",
       "      <td>0.1</td>\n",
       "      <td>0.1</td>\n",
       "      <td>0.1</td>\n",
       "      <td>NaN</td>\n",
       "      <td>NaN</td>\n",
       "      <td>NaN</td>\n",
       "      <td>NaN</td>\n",
       "      <td>NaN</td>\n",
       "      <td>NaN</td>\n",
       "      <td>NaN</td>\n",
       "      <td>0.1</td>\n",
       "      <td>0.0010</td>\n",
       "      <td>0.000394</td>\n",
       "      <td>NaN</td>\n",
       "      <td>2.0</td>\n",
       "      <td>0.0</td>\n",
       "      <td>2</td>\n",
       "    </tr>\n",
       "    <tr>\n",
       "      <th>3</th>\n",
       "      <td>193</td>\n",
       "      <td>Preparation mug cake chocolat-caramel au beurr...</td>\n",
       "      <td>NaN</td>\n",
       "      <td>Alice Délice</td>\n",
       "      <td>NaN</td>\n",
       "      <td>France</td>\n",
       "      <td>e</td>\n",
       "      <td>1632.0</td>\n",
       "      <td>NaN</td>\n",
       "      <td>7.0</td>\n",
       "      <td>4.5</td>\n",
       "      <td>70.0</td>\n",
       "      <td>42.0</td>\n",
       "      <td>NaN</td>\n",
       "      <td>NaN</td>\n",
       "      <td>NaN</td>\n",
       "      <td>NaN</td>\n",
       "      <td>NaN</td>\n",
       "      <td>NaN</td>\n",
       "      <td>0.0</td>\n",
       "      <td>7.0</td>\n",
       "      <td>0.9750</td>\n",
       "      <td>0.383858</td>\n",
       "      <td>NaN</td>\n",
       "      <td>21.0</td>\n",
       "      <td>21.0</td>\n",
       "      <td>1</td>\n",
       "    </tr>\n",
       "    <tr>\n",
       "      <th>4</th>\n",
       "      <td>194</td>\n",
       "      <td>Mini Confettis</td>\n",
       "      <td>NaN</td>\n",
       "      <td>Alice Délice</td>\n",
       "      <td>NaN</td>\n",
       "      <td>France</td>\n",
       "      <td>d</td>\n",
       "      <td>1753.0</td>\n",
       "      <td>NaN</td>\n",
       "      <td>NaN</td>\n",
       "      <td>0.8</td>\n",
       "      <td>NaN</td>\n",
       "      <td>87.7</td>\n",
       "      <td>NaN</td>\n",
       "      <td>NaN</td>\n",
       "      <td>NaN</td>\n",
       "      <td>NaN</td>\n",
       "      <td>NaN</td>\n",
       "      <td>NaN</td>\n",
       "      <td>0.9</td>\n",
       "      <td>0.6</td>\n",
       "      <td>0.0100</td>\n",
       "      <td>0.003937</td>\n",
       "      <td>NaN</td>\n",
       "      <td>14.0</td>\n",
       "      <td>14.0</td>\n",
       "      <td>3</td>\n",
       "    </tr>\n",
       "  </tbody>\n",
       "</table>\n",
       "</div>"
      ],
      "text/plain": [
       "   Unnamed: 0                                       product_name  \\\n",
       "0         185                                          Root Beer   \n",
       "1         189      Gotta-have grape, seriously strawberry flavor   \n",
       "2         190              Thé noir aromatisé violette et fleurs   \n",
       "3         193  Preparation mug cake chocolat-caramel au beurr...   \n",
       "4         194                                     Mini Confettis   \n",
       "\n",
       "                     generic_name        brands  \\\n",
       "0                             NaN           A&W   \n",
       "1  Bonbons acidulés Raisin Fraise         Nerds   \n",
       "2                             NaN  Alice Délice   \n",
       "3                             NaN  Alice Délice   \n",
       "4                             NaN  Alice Délice   \n",
       "\n",
       "                                          categories countries  \\\n",
       "0  Boissons,Boissons gazeuses,Sodas,Boissons sucr...    France   \n",
       "1                  Snacks sucrés,Confiseries,Bonbons    France   \n",
       "2                                       en:beverages    France   \n",
       "3                                                NaN    France   \n",
       "4                                                NaN    France   \n",
       "\n",
       "  nutrition_grade_fr  energy_100g  energy-from-fat_100g  fat_100g  \\\n",
       "0                  e        215.0                   NaN       0.0   \n",
       "1                  d       1667.0                   NaN       0.0   \n",
       "2                  c         17.0                   NaN       0.1   \n",
       "3                  e       1632.0                   NaN       7.0   \n",
       "4                  d       1753.0                   NaN       NaN   \n",
       "\n",
       "   saturated-fat_100g  carbohydrates_100g  sugars_100g  -sucrose_100g  \\\n",
       "0                 0.0                14.2         13.6            NaN   \n",
       "1                 0.0                93.3         93.3            NaN   \n",
       "2                 0.1                 0.1          0.1            NaN   \n",
       "3                 4.5                70.0         42.0            NaN   \n",
       "4                 0.8                 NaN         87.7            NaN   \n",
       "\n",
       "   -glucose_100g  -fructose_100g  -lactose_100g  -maltose_100g  \\\n",
       "0            NaN             NaN            NaN            NaN   \n",
       "1            NaN             NaN            NaN            NaN   \n",
       "2            NaN             NaN            NaN            NaN   \n",
       "3            NaN             NaN            NaN            NaN   \n",
       "4            NaN             NaN            NaN            NaN   \n",
       "\n",
       "   -maltodextrins_100g  fiber_100g  proteins_100g  salt_100g  sodium_100g  \\\n",
       "0                  NaN         0.0            0.0     0.0616     0.024200   \n",
       "1                  NaN         NaN            0.0     0.0000     0.000000   \n",
       "2                  NaN         NaN            0.1     0.0010     0.000394   \n",
       "3                  NaN         0.0            7.0     0.9750     0.383858   \n",
       "4                  NaN         0.9            0.6     0.0100     0.003937   \n",
       "\n",
       "   fruits-vegetables-nuts_100g  nutrition-score-fr_100g  \\\n",
       "0                          NaN                     18.0   \n",
       "1                          NaN                     14.0   \n",
       "2                          NaN                      2.0   \n",
       "3                          NaN                     21.0   \n",
       "4                          NaN                     14.0   \n",
       "\n",
       "   nutrition-score-uk_100g  Missing_100g  \n",
       "0                      3.0             1  \n",
       "1                     14.0             2  \n",
       "2                      0.0             2  \n",
       "3                     21.0             1  \n",
       "4                     14.0             3  "
      ]
     },
     "execution_count": 73,
     "metadata": {},
     "output_type": "execute_result"
    }
   ],
   "source": [
    "df.head()"
   ]
  },
  {
   "cell_type": "code",
   "execution_count": 74,
   "metadata": {},
   "outputs": [
    {
     "data": {
      "text/plain": [
       "(92418, 27)"
      ]
     },
     "execution_count": 74,
     "metadata": {},
     "output_type": "execute_result"
    }
   ],
   "source": [
    "df.shape"
   ]
  },
  {
   "cell_type": "markdown",
   "metadata": {},
   "source": [
    "## calcul du nutriscore quand il est manquant"
   ]
  },
  {
   "cell_type": "markdown",
   "metadata": {},
   "source": [
    "##### Cette partie de code n'est pas encore fonctionnelle."
   ]
  },
  {
   "cell_type": "code",
   "execution_count": null,
   "metadata": {},
   "outputs": [],
   "source": [
    "values = ['energy_100g', 'sugars_100g', 'saturated-fat_100g', 'sodium_100g']"
   ]
  },
  {
   "cell_type": "code",
   "execution_count": null,
   "metadata": {},
   "outputs": [],
   "source": []
  },
  {
   "cell_type": "code",
   "execution_count": 49,
   "metadata": {},
   "outputs": [],
   "source": [
    "def getPts(value, level) :\n",
    "  val = 0\n",
    "  for i, x in enumerate(level) :\n",
    "    if int(value) <= int(x) :\n",
    "      val = i\n",
    "      break\n",
    "    return val"
   ]
  },
  {
   "cell_type": "code",
   "execution_count": 52,
   "metadata": {},
   "outputs": [],
   "source": [
    "# Négatif\n",
    "def getPtsNeg(row):\n",
    "    ptsEnergy = getPts(row['energy_100g'], [335, 336, 670, 1005, 1675, 2010, 2345, 2680, 3015, 3050])\n",
    "    ptsGlus = getPts(row['sugars_100g'], [4.5, 9, 13.5, 18, 22.5, 27, 31, 36, 40, 45])\n",
    "    ptsFat = getPts(row['saturated-fat_100g'], [1, 2, 3, 4, 5, 6, 7, 8, 9, 10])\n",
    "    ptsNA = getPts(row['sodium_100g'], [90, 180, 270, 360, 450, 540, 630, 720, 810, 900])\n",
    "    ptsNeg = ptsEnergy + ptsGlus + ptsFat + ptsNA\n",
    "    return ptsNeg"
   ]
  },
  {
   "cell_type": "code",
   "execution_count": 53,
   "metadata": {},
   "outputs": [
    {
     "ename": "ValueError",
     "evalue": "cannot convert float NaN to integer",
     "output_type": "error",
     "traceback": [
      "\u001b[0;31m---------------------------------------------------------------------------\u001b[0m",
      "\u001b[0;31mValueError\u001b[0m                                Traceback (most recent call last)",
      "\u001b[0;32m<ipython-input-53-01a4ed3635c7>\u001b[0m in \u001b[0;36m<module>\u001b[0;34m\u001b[0m\n\u001b[0;32m----> 1\u001b[0;31m \u001b[0mnutriscore_table\u001b[0m\u001b[0;34m[\u001b[0m\u001b[0;34m'points_neg'\u001b[0m\u001b[0;34m]\u001b[0m \u001b[0;34m=\u001b[0m \u001b[0mnutriscore_table\u001b[0m\u001b[0;34m.\u001b[0m\u001b[0mapply\u001b[0m\u001b[0;34m(\u001b[0m\u001b[0mgetPtsNeg\u001b[0m\u001b[0;34m,\u001b[0m \u001b[0maxis\u001b[0m\u001b[0;34m=\u001b[0m\u001b[0;36m1\u001b[0m\u001b[0;34m)\u001b[0m\u001b[0;34m\u001b[0m\u001b[0;34m\u001b[0m\u001b[0m\n\u001b[0m",
      "\u001b[0;32m~/anaconda3/lib/python3.8/site-packages/pandas/core/frame.py\u001b[0m in \u001b[0;36mapply\u001b[0;34m(self, func, axis, raw, result_type, args, **kwds)\u001b[0m\n\u001b[1;32m   7546\u001b[0m             \u001b[0mkwds\u001b[0m\u001b[0;34m=\u001b[0m\u001b[0mkwds\u001b[0m\u001b[0;34m,\u001b[0m\u001b[0;34m\u001b[0m\u001b[0;34m\u001b[0m\u001b[0m\n\u001b[1;32m   7547\u001b[0m         )\n\u001b[0;32m-> 7548\u001b[0;31m         \u001b[0;32mreturn\u001b[0m \u001b[0mop\u001b[0m\u001b[0;34m.\u001b[0m\u001b[0mget_result\u001b[0m\u001b[0;34m(\u001b[0m\u001b[0;34m)\u001b[0m\u001b[0;34m\u001b[0m\u001b[0;34m\u001b[0m\u001b[0m\n\u001b[0m\u001b[1;32m   7549\u001b[0m \u001b[0;34m\u001b[0m\u001b[0m\n\u001b[1;32m   7550\u001b[0m     \u001b[0;32mdef\u001b[0m \u001b[0mapplymap\u001b[0m\u001b[0;34m(\u001b[0m\u001b[0mself\u001b[0m\u001b[0;34m,\u001b[0m \u001b[0mfunc\u001b[0m\u001b[0;34m)\u001b[0m \u001b[0;34m->\u001b[0m \u001b[0;34m\"DataFrame\"\u001b[0m\u001b[0;34m:\u001b[0m\u001b[0;34m\u001b[0m\u001b[0;34m\u001b[0m\u001b[0m\n",
      "\u001b[0;32m~/anaconda3/lib/python3.8/site-packages/pandas/core/apply.py\u001b[0m in \u001b[0;36mget_result\u001b[0;34m(self)\u001b[0m\n\u001b[1;32m    178\u001b[0m             \u001b[0;32mreturn\u001b[0m \u001b[0mself\u001b[0m\u001b[0;34m.\u001b[0m\u001b[0mapply_raw\u001b[0m\u001b[0;34m(\u001b[0m\u001b[0;34m)\u001b[0m\u001b[0;34m\u001b[0m\u001b[0;34m\u001b[0m\u001b[0m\n\u001b[1;32m    179\u001b[0m \u001b[0;34m\u001b[0m\u001b[0m\n\u001b[0;32m--> 180\u001b[0;31m         \u001b[0;32mreturn\u001b[0m \u001b[0mself\u001b[0m\u001b[0;34m.\u001b[0m\u001b[0mapply_standard\u001b[0m\u001b[0;34m(\u001b[0m\u001b[0;34m)\u001b[0m\u001b[0;34m\u001b[0m\u001b[0;34m\u001b[0m\u001b[0m\n\u001b[0m\u001b[1;32m    181\u001b[0m \u001b[0;34m\u001b[0m\u001b[0m\n\u001b[1;32m    182\u001b[0m     \u001b[0;32mdef\u001b[0m \u001b[0mapply_empty_result\u001b[0m\u001b[0;34m(\u001b[0m\u001b[0mself\u001b[0m\u001b[0;34m)\u001b[0m\u001b[0;34m:\u001b[0m\u001b[0;34m\u001b[0m\u001b[0;34m\u001b[0m\u001b[0m\n",
      "\u001b[0;32m~/anaconda3/lib/python3.8/site-packages/pandas/core/apply.py\u001b[0m in \u001b[0;36mapply_standard\u001b[0;34m(self)\u001b[0m\n\u001b[1;32m    269\u001b[0m \u001b[0;34m\u001b[0m\u001b[0m\n\u001b[1;32m    270\u001b[0m     \u001b[0;32mdef\u001b[0m \u001b[0mapply_standard\u001b[0m\u001b[0;34m(\u001b[0m\u001b[0mself\u001b[0m\u001b[0;34m)\u001b[0m\u001b[0;34m:\u001b[0m\u001b[0;34m\u001b[0m\u001b[0;34m\u001b[0m\u001b[0m\n\u001b[0;32m--> 271\u001b[0;31m         \u001b[0mresults\u001b[0m\u001b[0;34m,\u001b[0m \u001b[0mres_index\u001b[0m \u001b[0;34m=\u001b[0m \u001b[0mself\u001b[0m\u001b[0;34m.\u001b[0m\u001b[0mapply_series_generator\u001b[0m\u001b[0;34m(\u001b[0m\u001b[0;34m)\u001b[0m\u001b[0;34m\u001b[0m\u001b[0;34m\u001b[0m\u001b[0m\n\u001b[0m\u001b[1;32m    272\u001b[0m \u001b[0;34m\u001b[0m\u001b[0m\n\u001b[1;32m    273\u001b[0m         \u001b[0;31m# wrap results\u001b[0m\u001b[0;34m\u001b[0m\u001b[0;34m\u001b[0m\u001b[0;34m\u001b[0m\u001b[0m\n",
      "\u001b[0;32m~/anaconda3/lib/python3.8/site-packages/pandas/core/apply.py\u001b[0m in \u001b[0;36mapply_series_generator\u001b[0;34m(self)\u001b[0m\n\u001b[1;32m    298\u001b[0m                 \u001b[0;32mfor\u001b[0m \u001b[0mi\u001b[0m\u001b[0;34m,\u001b[0m \u001b[0mv\u001b[0m \u001b[0;32min\u001b[0m \u001b[0menumerate\u001b[0m\u001b[0;34m(\u001b[0m\u001b[0mseries_gen\u001b[0m\u001b[0;34m)\u001b[0m\u001b[0;34m:\u001b[0m\u001b[0;34m\u001b[0m\u001b[0;34m\u001b[0m\u001b[0m\n\u001b[1;32m    299\u001b[0m                     \u001b[0;31m# ignore SettingWithCopy here in case the user mutates\u001b[0m\u001b[0;34m\u001b[0m\u001b[0;34m\u001b[0m\u001b[0;34m\u001b[0m\u001b[0m\n\u001b[0;32m--> 300\u001b[0;31m                     \u001b[0mresults\u001b[0m\u001b[0;34m[\u001b[0m\u001b[0mi\u001b[0m\u001b[0;34m]\u001b[0m \u001b[0;34m=\u001b[0m \u001b[0mself\u001b[0m\u001b[0;34m.\u001b[0m\u001b[0mf\u001b[0m\u001b[0;34m(\u001b[0m\u001b[0mv\u001b[0m\u001b[0;34m)\u001b[0m\u001b[0;34m\u001b[0m\u001b[0;34m\u001b[0m\u001b[0m\n\u001b[0m\u001b[1;32m    301\u001b[0m                     \u001b[0;32mif\u001b[0m \u001b[0misinstance\u001b[0m\u001b[0;34m(\u001b[0m\u001b[0mresults\u001b[0m\u001b[0;34m[\u001b[0m\u001b[0mi\u001b[0m\u001b[0;34m]\u001b[0m\u001b[0;34m,\u001b[0m \u001b[0mABCSeries\u001b[0m\u001b[0;34m)\u001b[0m\u001b[0;34m:\u001b[0m\u001b[0;34m\u001b[0m\u001b[0;34m\u001b[0m\u001b[0m\n\u001b[1;32m    302\u001b[0m                         \u001b[0;31m# If we have a view on v, we need to make a copy because\u001b[0m\u001b[0;34m\u001b[0m\u001b[0;34m\u001b[0m\u001b[0;34m\u001b[0m\u001b[0m\n",
      "\u001b[0;32m<ipython-input-52-7ef180dd7224>\u001b[0m in \u001b[0;36mgetPtsNeg\u001b[0;34m(row)\u001b[0m\n\u001b[1;32m      2\u001b[0m \u001b[0;32mdef\u001b[0m \u001b[0mgetPtsNeg\u001b[0m\u001b[0;34m(\u001b[0m\u001b[0mrow\u001b[0m\u001b[0;34m)\u001b[0m\u001b[0;34m:\u001b[0m\u001b[0;34m\u001b[0m\u001b[0;34m\u001b[0m\u001b[0m\n\u001b[1;32m      3\u001b[0m     \u001b[0mptsEnergy\u001b[0m \u001b[0;34m=\u001b[0m \u001b[0mgetPts\u001b[0m\u001b[0;34m(\u001b[0m\u001b[0mrow\u001b[0m\u001b[0;34m[\u001b[0m\u001b[0;34m'energy_100g'\u001b[0m\u001b[0;34m]\u001b[0m\u001b[0;34m,\u001b[0m \u001b[0;34m[\u001b[0m\u001b[0;36m335\u001b[0m\u001b[0;34m,\u001b[0m \u001b[0;36m336\u001b[0m\u001b[0;34m,\u001b[0m \u001b[0;36m670\u001b[0m\u001b[0;34m,\u001b[0m \u001b[0;36m1005\u001b[0m\u001b[0;34m,\u001b[0m \u001b[0;36m1675\u001b[0m\u001b[0;34m,\u001b[0m \u001b[0;36m2010\u001b[0m\u001b[0;34m,\u001b[0m \u001b[0;36m2345\u001b[0m\u001b[0;34m,\u001b[0m \u001b[0;36m2680\u001b[0m\u001b[0;34m,\u001b[0m \u001b[0;36m3015\u001b[0m\u001b[0;34m,\u001b[0m \u001b[0;36m3050\u001b[0m\u001b[0;34m]\u001b[0m\u001b[0;34m)\u001b[0m\u001b[0;34m\u001b[0m\u001b[0;34m\u001b[0m\u001b[0m\n\u001b[0;32m----> 4\u001b[0;31m     \u001b[0mptsGlus\u001b[0m \u001b[0;34m=\u001b[0m \u001b[0mgetPts\u001b[0m\u001b[0;34m(\u001b[0m\u001b[0mrow\u001b[0m\u001b[0;34m[\u001b[0m\u001b[0;34m'sugars_100g'\u001b[0m\u001b[0;34m]\u001b[0m\u001b[0;34m,\u001b[0m \u001b[0;34m[\u001b[0m\u001b[0;36m4.5\u001b[0m\u001b[0;34m,\u001b[0m \u001b[0;36m9\u001b[0m\u001b[0;34m,\u001b[0m \u001b[0;36m13.5\u001b[0m\u001b[0;34m,\u001b[0m \u001b[0;36m18\u001b[0m\u001b[0;34m,\u001b[0m \u001b[0;36m22.5\u001b[0m\u001b[0;34m,\u001b[0m \u001b[0;36m27\u001b[0m\u001b[0;34m,\u001b[0m \u001b[0;36m31\u001b[0m\u001b[0;34m,\u001b[0m \u001b[0;36m36\u001b[0m\u001b[0;34m,\u001b[0m \u001b[0;36m40\u001b[0m\u001b[0;34m,\u001b[0m \u001b[0;36m45\u001b[0m\u001b[0;34m]\u001b[0m\u001b[0;34m)\u001b[0m\u001b[0;34m\u001b[0m\u001b[0;34m\u001b[0m\u001b[0m\n\u001b[0m\u001b[1;32m      5\u001b[0m     \u001b[0mptsFat\u001b[0m \u001b[0;34m=\u001b[0m \u001b[0mgetPts\u001b[0m\u001b[0;34m(\u001b[0m\u001b[0mrow\u001b[0m\u001b[0;34m[\u001b[0m\u001b[0;34m'saturated-fat_100g'\u001b[0m\u001b[0;34m]\u001b[0m\u001b[0;34m,\u001b[0m \u001b[0;34m[\u001b[0m\u001b[0;36m1\u001b[0m\u001b[0;34m,\u001b[0m \u001b[0;36m2\u001b[0m\u001b[0;34m,\u001b[0m \u001b[0;36m3\u001b[0m\u001b[0;34m,\u001b[0m \u001b[0;36m4\u001b[0m\u001b[0;34m,\u001b[0m \u001b[0;36m5\u001b[0m\u001b[0;34m,\u001b[0m \u001b[0;36m6\u001b[0m\u001b[0;34m,\u001b[0m \u001b[0;36m7\u001b[0m\u001b[0;34m,\u001b[0m \u001b[0;36m8\u001b[0m\u001b[0;34m,\u001b[0m \u001b[0;36m9\u001b[0m\u001b[0;34m,\u001b[0m \u001b[0;36m10\u001b[0m\u001b[0;34m]\u001b[0m\u001b[0;34m)\u001b[0m\u001b[0;34m\u001b[0m\u001b[0;34m\u001b[0m\u001b[0m\n\u001b[1;32m      6\u001b[0m     \u001b[0mptsNA\u001b[0m \u001b[0;34m=\u001b[0m \u001b[0mgetPts\u001b[0m\u001b[0;34m(\u001b[0m\u001b[0mrow\u001b[0m\u001b[0;34m[\u001b[0m\u001b[0;34m'sodium_100g'\u001b[0m\u001b[0;34m]\u001b[0m\u001b[0;34m,\u001b[0m \u001b[0;34m[\u001b[0m\u001b[0;36m90\u001b[0m\u001b[0;34m,\u001b[0m \u001b[0;36m180\u001b[0m\u001b[0;34m,\u001b[0m \u001b[0;36m270\u001b[0m\u001b[0;34m,\u001b[0m \u001b[0;36m360\u001b[0m\u001b[0;34m,\u001b[0m \u001b[0;36m450\u001b[0m\u001b[0;34m,\u001b[0m \u001b[0;36m540\u001b[0m\u001b[0;34m,\u001b[0m \u001b[0;36m630\u001b[0m\u001b[0;34m,\u001b[0m \u001b[0;36m720\u001b[0m\u001b[0;34m,\u001b[0m \u001b[0;36m810\u001b[0m\u001b[0;34m,\u001b[0m \u001b[0;36m900\u001b[0m\u001b[0;34m]\u001b[0m\u001b[0;34m)\u001b[0m\u001b[0;34m\u001b[0m\u001b[0;34m\u001b[0m\u001b[0m\n",
      "\u001b[0;32m<ipython-input-49-517b232f3b2f>\u001b[0m in \u001b[0;36mgetPts\u001b[0;34m(value, level)\u001b[0m\n\u001b[1;32m      2\u001b[0m   \u001b[0mval\u001b[0m \u001b[0;34m=\u001b[0m \u001b[0;36m0\u001b[0m\u001b[0;34m\u001b[0m\u001b[0;34m\u001b[0m\u001b[0m\n\u001b[1;32m      3\u001b[0m   \u001b[0;32mfor\u001b[0m \u001b[0mi\u001b[0m\u001b[0;34m,\u001b[0m \u001b[0mx\u001b[0m \u001b[0;32min\u001b[0m \u001b[0menumerate\u001b[0m\u001b[0;34m(\u001b[0m\u001b[0mlevel\u001b[0m\u001b[0;34m)\u001b[0m \u001b[0;34m:\u001b[0m\u001b[0;34m\u001b[0m\u001b[0;34m\u001b[0m\u001b[0m\n\u001b[0;32m----> 4\u001b[0;31m     \u001b[0;32mif\u001b[0m \u001b[0mint\u001b[0m\u001b[0;34m(\u001b[0m\u001b[0mvalue\u001b[0m\u001b[0;34m)\u001b[0m \u001b[0;34m<=\u001b[0m \u001b[0mint\u001b[0m\u001b[0;34m(\u001b[0m\u001b[0mx\u001b[0m\u001b[0;34m)\u001b[0m \u001b[0;34m:\u001b[0m\u001b[0;34m\u001b[0m\u001b[0;34m\u001b[0m\u001b[0m\n\u001b[0m\u001b[1;32m      5\u001b[0m       \u001b[0mval\u001b[0m \u001b[0;34m=\u001b[0m \u001b[0mi\u001b[0m\u001b[0;34m\u001b[0m\u001b[0;34m\u001b[0m\u001b[0m\n\u001b[1;32m      6\u001b[0m       \u001b[0;32mbreak\u001b[0m\u001b[0;34m\u001b[0m\u001b[0;34m\u001b[0m\u001b[0m\n",
      "\u001b[0;31mValueError\u001b[0m: cannot convert float NaN to integer"
     ]
    }
   ],
   "source": [
    "nutriscore_table['points_neg'] = nutriscore_table.apply(getPtsNeg, axis=1)"
   ]
  },
  {
   "cell_type": "code",
   "execution_count": null,
   "metadata": {},
   "outputs": [],
   "source": [
    "# Positif\n",
    "def getPtsPos(row):\n",
    "    ptsProt = getPts(row.['proteins_100g'], [1.6, 3.2, 4.8, 6.4, 8])\n",
    "    ptsFib = getPts(row.['fiber_100g'], [0.9, 1.9, 2.8, 3.7, 4.7])\n",
    "    ptsVgtx = getPts(row.['fruits-vegetables-nuts_100g'], [40, 41, 60])\n",
    "    ptsPos = ptsProt + ptsFib + ptsVgtx\n",
    "    return ptsPos"
   ]
  },
  {
   "cell_type": "code",
   "execution_count": null,
   "metadata": {},
   "outputs": [],
   "source": [
    "nutriscore_table['points_pos'] = nutriscore_table.apply(getPtsPos, axis=1)"
   ]
  },
  {
   "cell_type": "code",
   "execution_count": null,
   "metadata": {},
   "outputs": [],
   "source": []
  }
 ],
 "metadata": {
  "kernelspec": {
   "display_name": "Python 3",
   "language": "python",
   "name": "python3"
  },
  "language_info": {
   "codemirror_mode": {
    "name": "ipython",
    "version": 3
   },
   "file_extension": ".py",
   "mimetype": "text/x-python",
   "name": "python",
   "nbconvert_exporter": "python",
   "pygments_lexer": "ipython3",
   "version": "3.8.5"
  }
 },
 "nbformat": 4,
 "nbformat_minor": 4
}
